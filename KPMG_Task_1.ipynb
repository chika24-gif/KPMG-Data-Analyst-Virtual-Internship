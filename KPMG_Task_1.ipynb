{
  "nbformat": 4,
  "nbformat_minor": 0,
  "metadata": {
    "colab": {
      "provenance": [],
      "toc_visible": true
    },
    "kernelspec": {
      "name": "python3",
      "display_name": "Python 3"
    },
    "language_info": {
      "name": "python"
    }
  },
  "cells": [
    {
      "cell_type": "markdown",
      "source": [
        "This is the first task towards completing the KPMG AU Virtual Internship program. I have been tasked with accessing 3 datasets provided by Sprocket Central Pty Ltd  with for its data quality isuues, the 3 datasets include;\n",
        " - Customer Demographic \n",
        " - Customer Addresses\n",
        " - Transactions data in the past 3 months\n",
        "\n",
        " After this accessment, I am to draft an email on the data quality issues discovered from this exploration stage and ways through which they can be rectified\n",
        "\n",
        "\n",
        " ### Exploration of the Customer Demographic Dataset"
      ],
      "metadata": {
        "id": "6bGRS8q0PZau"
      }
    },
    {
      "cell_type": "code",
      "execution_count": 13,
      "metadata": {
        "colab": {
          "base_uri": "https://localhost:8080/",
          "height": 410
        },
        "id": "GOlWyqWlPyfz",
        "outputId": "0155ccd2-0b28-49b5-e0ea-cb0d71bce361"
      },
      "outputs": [
        {
          "output_type": "stream",
          "name": "stderr",
          "text": [
            "<ipython-input-13-539b4b21080f>:3: FutureWarning: Inferring datetime64[ns] from data containing strings is deprecated and will be removed in a future version. To retain the old behavior explicitly pass Series(data, dtype={value.dtype})\n",
            "  cust_demo_df = pd.read_excel('/KPMG_VI_New_raw_data_update_final.xlsx',\n"
          ]
        },
        {
          "output_type": "execute_result",
          "data": {
            "text/plain": [
              "   customer_id      first_name  last_name  gender  \\\n",
              "0            1         Laraine  Medendorp       F   \n",
              "1            2             Eli    Bockman    Male   \n",
              "2            3           Arlin     Dearle    Male   \n",
              "3            4          Talbot        NaN    Male   \n",
              "4            5  Sheila-kathryn     Calton  Female   \n",
              "\n",
              "   past_3_years_bike_related_purchases        DOB               job_title  \\\n",
              "0                                   93 1953-10-12     Executive Secretary   \n",
              "1                                   81 1980-12-16  Administrative Officer   \n",
              "2                                   61 1954-01-20      Recruiting Manager   \n",
              "3                                   33 1961-10-03                     NaN   \n",
              "4                                   56 1977-05-13           Senior Editor   \n",
              "\n",
              "  job_industry_category     wealth_segment deceased_indicator  \\\n",
              "0                Health      Mass Customer                  N   \n",
              "1    Financial Services      Mass Customer                  N   \n",
              "2              Property      Mass Customer                  N   \n",
              "3                    IT      Mass Customer                  N   \n",
              "4                   NaN  Affluent Customer                  N   \n",
              "\n",
              "                                             default owns_car  tenure  \n",
              "0                                                 \"'      Yes    11.0  \n",
              "1                       <script>alert('hi')</script>      Yes    16.0  \n",
              "2                                2018-02-01 00:00:00      Yes    15.0  \n",
              "3  () { _; } >_[$($())] { touch /tmp/blns.shellsh...       No     7.0  \n",
              "4                                                NIL      Yes     8.0  "
            ],
            "text/html": [
              "\n",
              "  <div id=\"df-5fca151c-9c4f-4e2d-8ec2-06431b0b128a\">\n",
              "    <div class=\"colab-df-container\">\n",
              "      <div>\n",
              "<style scoped>\n",
              "    .dataframe tbody tr th:only-of-type {\n",
              "        vertical-align: middle;\n",
              "    }\n",
              "\n",
              "    .dataframe tbody tr th {\n",
              "        vertical-align: top;\n",
              "    }\n",
              "\n",
              "    .dataframe thead th {\n",
              "        text-align: right;\n",
              "    }\n",
              "</style>\n",
              "<table border=\"1\" class=\"dataframe\">\n",
              "  <thead>\n",
              "    <tr style=\"text-align: right;\">\n",
              "      <th></th>\n",
              "      <th>customer_id</th>\n",
              "      <th>first_name</th>\n",
              "      <th>last_name</th>\n",
              "      <th>gender</th>\n",
              "      <th>past_3_years_bike_related_purchases</th>\n",
              "      <th>DOB</th>\n",
              "      <th>job_title</th>\n",
              "      <th>job_industry_category</th>\n",
              "      <th>wealth_segment</th>\n",
              "      <th>deceased_indicator</th>\n",
              "      <th>default</th>\n",
              "      <th>owns_car</th>\n",
              "      <th>tenure</th>\n",
              "    </tr>\n",
              "  </thead>\n",
              "  <tbody>\n",
              "    <tr>\n",
              "      <th>0</th>\n",
              "      <td>1</td>\n",
              "      <td>Laraine</td>\n",
              "      <td>Medendorp</td>\n",
              "      <td>F</td>\n",
              "      <td>93</td>\n",
              "      <td>1953-10-12</td>\n",
              "      <td>Executive Secretary</td>\n",
              "      <td>Health</td>\n",
              "      <td>Mass Customer</td>\n",
              "      <td>N</td>\n",
              "      <td>\"'</td>\n",
              "      <td>Yes</td>\n",
              "      <td>11.0</td>\n",
              "    </tr>\n",
              "    <tr>\n",
              "      <th>1</th>\n",
              "      <td>2</td>\n",
              "      <td>Eli</td>\n",
              "      <td>Bockman</td>\n",
              "      <td>Male</td>\n",
              "      <td>81</td>\n",
              "      <td>1980-12-16</td>\n",
              "      <td>Administrative Officer</td>\n",
              "      <td>Financial Services</td>\n",
              "      <td>Mass Customer</td>\n",
              "      <td>N</td>\n",
              "      <td>&lt;script&gt;alert('hi')&lt;/script&gt;</td>\n",
              "      <td>Yes</td>\n",
              "      <td>16.0</td>\n",
              "    </tr>\n",
              "    <tr>\n",
              "      <th>2</th>\n",
              "      <td>3</td>\n",
              "      <td>Arlin</td>\n",
              "      <td>Dearle</td>\n",
              "      <td>Male</td>\n",
              "      <td>61</td>\n",
              "      <td>1954-01-20</td>\n",
              "      <td>Recruiting Manager</td>\n",
              "      <td>Property</td>\n",
              "      <td>Mass Customer</td>\n",
              "      <td>N</td>\n",
              "      <td>2018-02-01 00:00:00</td>\n",
              "      <td>Yes</td>\n",
              "      <td>15.0</td>\n",
              "    </tr>\n",
              "    <tr>\n",
              "      <th>3</th>\n",
              "      <td>4</td>\n",
              "      <td>Talbot</td>\n",
              "      <td>NaN</td>\n",
              "      <td>Male</td>\n",
              "      <td>33</td>\n",
              "      <td>1961-10-03</td>\n",
              "      <td>NaN</td>\n",
              "      <td>IT</td>\n",
              "      <td>Mass Customer</td>\n",
              "      <td>N</td>\n",
              "      <td>() { _; } &gt;_[$($())] { touch /tmp/blns.shellsh...</td>\n",
              "      <td>No</td>\n",
              "      <td>7.0</td>\n",
              "    </tr>\n",
              "    <tr>\n",
              "      <th>4</th>\n",
              "      <td>5</td>\n",
              "      <td>Sheila-kathryn</td>\n",
              "      <td>Calton</td>\n",
              "      <td>Female</td>\n",
              "      <td>56</td>\n",
              "      <td>1977-05-13</td>\n",
              "      <td>Senior Editor</td>\n",
              "      <td>NaN</td>\n",
              "      <td>Affluent Customer</td>\n",
              "      <td>N</td>\n",
              "      <td>NIL</td>\n",
              "      <td>Yes</td>\n",
              "      <td>8.0</td>\n",
              "    </tr>\n",
              "  </tbody>\n",
              "</table>\n",
              "</div>\n",
              "      <button class=\"colab-df-convert\" onclick=\"convertToInteractive('df-5fca151c-9c4f-4e2d-8ec2-06431b0b128a')\"\n",
              "              title=\"Convert this dataframe to an interactive table.\"\n",
              "              style=\"display:none;\">\n",
              "        \n",
              "  <svg xmlns=\"http://www.w3.org/2000/svg\" height=\"24px\"viewBox=\"0 0 24 24\"\n",
              "       width=\"24px\">\n",
              "    <path d=\"M0 0h24v24H0V0z\" fill=\"none\"/>\n",
              "    <path d=\"M18.56 5.44l.94 2.06.94-2.06 2.06-.94-2.06-.94-.94-2.06-.94 2.06-2.06.94zm-11 1L8.5 8.5l.94-2.06 2.06-.94-2.06-.94L8.5 2.5l-.94 2.06-2.06.94zm10 10l.94 2.06.94-2.06 2.06-.94-2.06-.94-.94-2.06-.94 2.06-2.06.94z\"/><path d=\"M17.41 7.96l-1.37-1.37c-.4-.4-.92-.59-1.43-.59-.52 0-1.04.2-1.43.59L10.3 9.45l-7.72 7.72c-.78.78-.78 2.05 0 2.83L4 21.41c.39.39.9.59 1.41.59.51 0 1.02-.2 1.41-.59l7.78-7.78 2.81-2.81c.8-.78.8-2.07 0-2.86zM5.41 20L4 18.59l7.72-7.72 1.47 1.35L5.41 20z\"/>\n",
              "  </svg>\n",
              "      </button>\n",
              "      \n",
              "  <style>\n",
              "    .colab-df-container {\n",
              "      display:flex;\n",
              "      flex-wrap:wrap;\n",
              "      gap: 12px;\n",
              "    }\n",
              "\n",
              "    .colab-df-convert {\n",
              "      background-color: #E8F0FE;\n",
              "      border: none;\n",
              "      border-radius: 50%;\n",
              "      cursor: pointer;\n",
              "      display: none;\n",
              "      fill: #1967D2;\n",
              "      height: 32px;\n",
              "      padding: 0 0 0 0;\n",
              "      width: 32px;\n",
              "    }\n",
              "\n",
              "    .colab-df-convert:hover {\n",
              "      background-color: #E2EBFA;\n",
              "      box-shadow: 0px 1px 2px rgba(60, 64, 67, 0.3), 0px 1px 3px 1px rgba(60, 64, 67, 0.15);\n",
              "      fill: #174EA6;\n",
              "    }\n",
              "\n",
              "    [theme=dark] .colab-df-convert {\n",
              "      background-color: #3B4455;\n",
              "      fill: #D2E3FC;\n",
              "    }\n",
              "\n",
              "    [theme=dark] .colab-df-convert:hover {\n",
              "      background-color: #434B5C;\n",
              "      box-shadow: 0px 1px 3px 1px rgba(0, 0, 0, 0.15);\n",
              "      filter: drop-shadow(0px 1px 2px rgba(0, 0, 0, 0.3));\n",
              "      fill: #FFFFFF;\n",
              "    }\n",
              "  </style>\n",
              "\n",
              "      <script>\n",
              "        const buttonEl =\n",
              "          document.querySelector('#df-5fca151c-9c4f-4e2d-8ec2-06431b0b128a button.colab-df-convert');\n",
              "        buttonEl.style.display =\n",
              "          google.colab.kernel.accessAllowed ? 'block' : 'none';\n",
              "\n",
              "        async function convertToInteractive(key) {\n",
              "          const element = document.querySelector('#df-5fca151c-9c4f-4e2d-8ec2-06431b0b128a');\n",
              "          const dataTable =\n",
              "            await google.colab.kernel.invokeFunction('convertToInteractive',\n",
              "                                                     [key], {});\n",
              "          if (!dataTable) return;\n",
              "\n",
              "          const docLinkHtml = 'Like what you see? Visit the ' +\n",
              "            '<a target=\"_blank\" href=https://colab.research.google.com/notebooks/data_table.ipynb>data table notebook</a>'\n",
              "            + ' to learn more about interactive tables.';\n",
              "          element.innerHTML = '';\n",
              "          dataTable['output_type'] = 'display_data';\n",
              "          await google.colab.output.renderOutput(dataTable, element);\n",
              "          const docLink = document.createElement('div');\n",
              "          docLink.innerHTML = docLinkHtml;\n",
              "          element.appendChild(docLink);\n",
              "        }\n",
              "      </script>\n",
              "    </div>\n",
              "  </div>\n",
              "  "
            ]
          },
          "metadata": {},
          "execution_count": 13
        }
      ],
      "source": [
        "\n",
        "import pandas as pd\n",
        "\n",
        "cust_demo_df = pd.read_excel('/KPMG_VI_New_raw_data_update_final.xlsx',\n",
        "                            sheet_name = 'CustomerDemographic', skiprows = 1)\n",
        "cust_demo_df.head()"
      ]
    },
    {
      "cell_type": "code",
      "source": [
        "print(cust_demo_df.shape)\n",
        "cust_demo_df.info()"
      ],
      "metadata": {
        "colab": {
          "base_uri": "https://localhost:8080/"
        },
        "id": "ZqAiqF8oCNdH",
        "outputId": "5899cd92-26d8-4f38-ac71-3f21708e3156"
      },
      "execution_count": 14,
      "outputs": [
        {
          "output_type": "stream",
          "name": "stdout",
          "text": [
            "(4000, 13)\n",
            "<class 'pandas.core.frame.DataFrame'>\n",
            "RangeIndex: 4000 entries, 0 to 3999\n",
            "Data columns (total 13 columns):\n",
            " #   Column                               Non-Null Count  Dtype         \n",
            "---  ------                               --------------  -----         \n",
            " 0   customer_id                          4000 non-null   int64         \n",
            " 1   first_name                           4000 non-null   object        \n",
            " 2   last_name                            3875 non-null   object        \n",
            " 3   gender                               4000 non-null   object        \n",
            " 4   past_3_years_bike_related_purchases  4000 non-null   int64         \n",
            " 5   DOB                                  3913 non-null   datetime64[ns]\n",
            " 6   job_title                            3494 non-null   object        \n",
            " 7   job_industry_category                3344 non-null   object        \n",
            " 8   wealth_segment                       4000 non-null   object        \n",
            " 9   deceased_indicator                   4000 non-null   object        \n",
            " 10  default                              3698 non-null   object        \n",
            " 11  owns_car                             4000 non-null   object        \n",
            " 12  tenure                               3913 non-null   float64       \n",
            "dtypes: datetime64[ns](1), float64(1), int64(2), object(9)\n",
            "memory usage: 406.4+ KB\n"
          ]
        }
      ]
    },
    {
      "cell_type": "code",
      "source": [
        "cust_demo_df.isna().sum()"
      ],
      "metadata": {
        "colab": {
          "base_uri": "https://localhost:8080/"
        },
        "id": "Z5mTQeh5EX7L",
        "outputId": "e55511d4-189c-4c37-d483-27dca5b56caa"
      },
      "execution_count": 15,
      "outputs": [
        {
          "output_type": "execute_result",
          "data": {
            "text/plain": [
              "customer_id                              0\n",
              "first_name                               0\n",
              "last_name                              125\n",
              "gender                                   0\n",
              "past_3_years_bike_related_purchases      0\n",
              "DOB                                     87\n",
              "job_title                              506\n",
              "job_industry_category                  656\n",
              "wealth_segment                           0\n",
              "deceased_indicator                       0\n",
              "default                                302\n",
              "owns_car                                 0\n",
              "tenure                                  87\n",
              "dtype: int64"
            ]
          },
          "metadata": {},
          "execution_count": 15
        }
      ]
    },
    {
      "cell_type": "code",
      "source": [
        "cust_demo_df.gender.value_counts()"
      ],
      "metadata": {
        "colab": {
          "base_uri": "https://localhost:8080/"
        },
        "id": "Y1OlhW1rCWRA",
        "outputId": "9bf743aa-ae0d-4008-ecc9-cda4b24b90e7"
      },
      "execution_count": 16,
      "outputs": [
        {
          "output_type": "execute_result",
          "data": {
            "text/plain": [
              "Female    2037\n",
              "Male      1872\n",
              "U           88\n",
              "F            1\n",
              "Femal        1\n",
              "M            1\n",
              "Name: gender, dtype: int64"
            ]
          },
          "metadata": {},
          "execution_count": 16
        }
      ]
    },
    {
      "cell_type": "code",
      "source": [
        "cust_demo_df.deceased_indicator.unique()"
      ],
      "metadata": {
        "colab": {
          "base_uri": "https://localhost:8080/"
        },
        "id": "dughwXTYF2yz",
        "outputId": "46197ae1-50ce-43c0-f6cf-3c7206b2e565"
      },
      "execution_count": 17,
      "outputs": [
        {
          "output_type": "execute_result",
          "data": {
            "text/plain": [
              "array(['N', 'Y'], dtype=object)"
            ]
          },
          "metadata": {},
          "execution_count": 17
        }
      ]
    },
    {
      "cell_type": "code",
      "source": [
        "cust_demo_df.owns_car.unique()"
      ],
      "metadata": {
        "colab": {
          "base_uri": "https://localhost:8080/"
        },
        "id": "Jh_mVOfDb7xM",
        "outputId": "3acd1779-9632-4048-dbe5-a48536c408ba"
      },
      "execution_count": 33,
      "outputs": [
        {
          "output_type": "execute_result",
          "data": {
            "text/plain": [
              "array(['Yes', 'No'], dtype=object)"
            ]
          },
          "metadata": {},
          "execution_count": 33
        }
      ]
    },
    {
      "cell_type": "code",
      "source": [
        "cust_demo_df.job_title.unique()"
      ],
      "metadata": {
        "colab": {
          "base_uri": "https://localhost:8080/"
        },
        "id": "oKVkhMu4GqFp",
        "outputId": "fc0033be-6ad0-4060-9d88-001b2a0ad6c9"
      },
      "execution_count": 18,
      "outputs": [
        {
          "output_type": "execute_result",
          "data": {
            "text/plain": [
              "array(['Executive Secretary', 'Administrative Officer',\n",
              "       'Recruiting Manager', nan, 'Senior Editor', 'Media Manager I',\n",
              "       'Business Systems Development Analyst', 'Senior Quality Engineer',\n",
              "       'Nuclear Power Engineer', 'Developer I', 'Account Executive',\n",
              "       'Junior Executive', 'Media Manager IV', 'Sales Associate',\n",
              "       'Professor', 'Geological Engineer', 'Project Manager',\n",
              "       'Safety Technician I', 'Research Assistant I',\n",
              "       'Accounting Assistant III', 'Editor', 'Research Nurse',\n",
              "       'Safety Technician III', 'Staff Accountant III', 'Legal Assistant',\n",
              "       'Product Engineer', 'Information Systems Manager',\n",
              "       'VP Quality Control', 'Social Worker', 'Senior Cost Accountant',\n",
              "       'Assistant Media Planner', 'Payment Adjustment Coordinator',\n",
              "       'Food Chemist', 'Accountant III', 'Director of Sales',\n",
              "       'Senior Financial Analyst', 'Registered Nurse',\n",
              "       'Biostatistician II', 'Computer Systems Analyst II',\n",
              "       'Software Test Engineer II', 'Paralegal', 'VP Sales',\n",
              "       'Chief Design Engineer', 'Office Assistant III',\n",
              "       'Physical Therapy Assistant', 'Help Desk Operator',\n",
              "       'Web Developer II', 'Research Associate', 'Teacher',\n",
              "       'VP Product Management', 'Statistician II',\n",
              "       'Automation Specialist IV', 'Data Coordiator',\n",
              "       'Software Test Engineer III', 'Internal Auditor',\n",
              "       'Analyst Programmer', 'Occupational Therapist',\n",
              "       'Speech Pathologist', 'Quality Control Specialist',\n",
              "       'Civil Engineer', 'Software Engineer III',\n",
              "       'Community Outreach Specialist', 'Safety Technician IV',\n",
              "       'VP Accounting', 'General Manager', 'Nurse Practicioner',\n",
              "       'Automation Specialist II', 'Marketing Assistant',\n",
              "       'Marketing Manager', 'Staff Scientist', 'Assistant Professor',\n",
              "       'Budget/Accounting Analyst IV', 'Associate Professor',\n",
              "       'Graphic Designer', 'Administrative Assistant II',\n",
              "       'Compensation Analyst', 'Systems Administrator III',\n",
              "       'Financial Advisor', 'Chemical Engineer', 'Web Designer I',\n",
              "       'Senior Developer', 'Office Assistant II', 'Recruiter', 'Operator',\n",
              "       'Programmer Analyst III', 'Quality Engineer', 'Environmental Tech',\n",
              "       'Analog Circuit Design manager', 'Cost Accountant', 'Librarian',\n",
              "       'Structural Analysis Engineer', 'Pharmacist', 'Assistant Manager',\n",
              "       'Accountant I', 'Web Designer III', 'Geologist III',\n",
              "       'Software Test Engineer I', 'Structural Engineer',\n",
              "       'Safety Technician II', 'Web Developer III',\n",
              "       'Programmer Analyst II', 'Design Engineer', 'Statistician I',\n",
              "       'VP Marketing', 'Desktop Support Technician', 'Actuary',\n",
              "       'Database Administrator III', 'Electrical Engineer',\n",
              "       'Tax Accountant', 'Clinical Specialist',\n",
              "       'Database Administrator IV', 'Systems Administrator II',\n",
              "       'Account Coordinator', 'Programmer III',\n",
              "       'Administrative Assistant III', 'Nurse', 'Technical Writer',\n",
              "       'Staff Accountant II', 'Dental Hygienist', 'Sales Representative',\n",
              "       'Budget/Accounting Analyst III', 'Computer Systems Analyst IV',\n",
              "       'Geologist I', 'Financial Analyst', 'Accounting Assistant II',\n",
              "       'Senior Sales Associate', 'Database Administrator II',\n",
              "       'Engineer I', 'Budget/Accounting Analyst I', 'Developer IV',\n",
              "       'Database Administrator I', 'Environmental Specialist',\n",
              "       'Computer Systems Analyst I', 'Account Representative IV',\n",
              "       'Statistician IV', 'Human Resources Manager',\n",
              "       'GIS Technical Architect', 'Programmer IV',\n",
              "       'Accounting Assistant IV', 'Software Engineer IV', 'Programmer II',\n",
              "       'Engineer III', 'Software Consultant', 'Biostatistician IV',\n",
              "       'Help Desk Technician', 'Automation Specialist I', 'Developer III',\n",
              "       'Human Resources Assistant I', 'Geologist IV', 'Media Manager II',\n",
              "       'Statistician III', 'Engineer II', 'Health Coach II',\n",
              "       'Developer II', 'Systems Administrator I', 'Web Developer I',\n",
              "       'Software Engineer II', 'Accounting Assistant I',\n",
              "       'Research Assistant II', 'Programmer Analyst IV', 'Health Coach I',\n",
              "       'Accountant II', 'Automation Specialist III',\n",
              "       'Administrative Assistant I', 'Health Coach IV',\n",
              "       'Media Manager III', 'Account Representative III',\n",
              "       'Web Designer IV', 'Budget/Accounting Analyst II',\n",
              "       'Web Developer IV', 'Programmer I', 'Biostatistician III',\n",
              "       'Software Test Engineer IV', 'Research Assistant IV',\n",
              "       'Account Representative I', 'Accountant IV', 'Biostatistician I',\n",
              "       'Human Resources Assistant IV', 'Administrative Assistant IV',\n",
              "       'Office Assistant I', 'Human Resources Assistant II',\n",
              "       'Mechanical Systems Engineer', 'Engineer IV', 'Health Coach III',\n",
              "       'Office Assistant IV', 'Software Engineer I',\n",
              "       'Human Resources Assistant III', 'Staff Accountant I',\n",
              "       'Computer Systems Analyst III', 'Geologist II', 'Web Designer II',\n",
              "       'Staff Accountant IV', 'Account Representative II',\n",
              "       'Programmer Analyst I', 'Systems Administrator IV',\n",
              "       'Research Assistant III'], dtype=object)"
            ]
          },
          "metadata": {},
          "execution_count": 18
        }
      ]
    },
    {
      "cell_type": "code",
      "source": [
        "cust_demo_df.job_industry_category.unique()"
      ],
      "metadata": {
        "colab": {
          "base_uri": "https://localhost:8080/"
        },
        "id": "2csLYlUoGAfi",
        "outputId": "ae819afe-fa12-4c21-edce-0c41b8336fd2"
      },
      "execution_count": 20,
      "outputs": [
        {
          "output_type": "execute_result",
          "data": {
            "text/plain": [
              "array(['Health', 'Financial Services', 'Property', 'IT', nan, 'Retail',\n",
              "       'Argiculture', 'Manufacturing', 'Telecommunications',\n",
              "       'Entertainment'], dtype=object)"
            ]
          },
          "metadata": {},
          "execution_count": 20
        }
      ]
    },
    {
      "cell_type": "code",
      "source": [
        "cust_demo_df.wealth_segment.unique()"
      ],
      "metadata": {
        "colab": {
          "base_uri": "https://localhost:8080/"
        },
        "id": "hOlrj0PdIEQb",
        "outputId": "4fe5c168-8bdf-4445-d565-a866cf2b5b62"
      },
      "execution_count": 22,
      "outputs": [
        {
          "output_type": "execute_result",
          "data": {
            "text/plain": [
              "array(['Mass Customer', 'Affluent Customer', 'High Net Worth'],\n",
              "      dtype=object)"
            ]
          },
          "metadata": {},
          "execution_count": 22
        }
      ]
    },
    {
      "cell_type": "code",
      "source": [
        "cust_demo_df.tenure.unique()"
      ],
      "metadata": {
        "colab": {
          "base_uri": "https://localhost:8080/"
        },
        "id": "h76aX87BIU7j",
        "outputId": "d4cb0c2d-ffa4-4eec-f1e2-82ae79ad2f2d"
      },
      "execution_count": 25,
      "outputs": [
        {
          "output_type": "execute_result",
          "data": {
            "text/plain": [
              "array([11., 16., 15.,  7.,  8., 13., 20.,  9.,  6.,  1., 18., 21., 12.,\n",
              "       19., 14.,  4., 22.,  5., 17.,  2.,  3., 10., nan])"
            ]
          },
          "metadata": {},
          "execution_count": 25
        }
      ]
    },
    {
      "cell_type": "code",
      "source": [
        "cust_demo_df.past_3_years_bike_related_purchases.unique()"
      ],
      "metadata": {
        "colab": {
          "base_uri": "https://localhost:8080/"
        },
        "id": "mT0orWDeIxgP",
        "outputId": "89b5461b-0a7c-4b43-ae23-14ec51b68b9d"
      },
      "execution_count": 28,
      "outputs": [
        {
          "output_type": "execute_result",
          "data": {
            "text/plain": [
              "array([93, 81, 61, 33, 56, 35,  6, 31, 97, 49, 99, 58, 38, 85, 91, 57, 79,\n",
              "       76, 72, 74, 43, 55, 12, 37,  5, 62, 18,  3, 17, 44, 59, 40, 46, 64,\n",
              "       24, 63, 98, 51, 68, 22,  2, 48, 87, 26, 60, 47, 73, 21, 67, 16, 78,\n",
              "       30, 94, 28, 20, 11,  1, 75, 41, 69, 19, 80, 83, 25, 54,  4, 23, 65,\n",
              "       88, 10, 77,  9, 82, 27, 53, 32, 34, 71, 36, 90, 95,  8, 39,  7, 42,\n",
              "       13, 45, 50, 14, 89, 84, 96, 70, 66,  0, 15, 86, 92, 29, 52])"
            ]
          },
          "metadata": {},
          "execution_count": 28
        }
      ]
    },
    {
      "cell_type": "code",
      "source": [
        "cust_demo_df.duplicated().sum()"
      ],
      "metadata": {
        "colab": {
          "base_uri": "https://localhost:8080/"
        },
        "id": "8ATgdek6JdPn",
        "outputId": "e78a270d-d3df-4eb1-aa90-37e680a95d21"
      },
      "execution_count": 29,
      "outputs": [
        {
          "output_type": "execute_result",
          "data": {
            "text/plain": [
              "0"
            ]
          },
          "metadata": {},
          "execution_count": 29
        }
      ]
    },
    {
      "cell_type": "code",
      "source": [
        "cust_demo_df.default.unique()"
      ],
      "metadata": {
        "colab": {
          "base_uri": "https://localhost:8080/"
        },
        "id": "VUyiNk6DRk6l",
        "outputId": "e1be653d-6738-4345-eb36-092447568857"
      },
      "execution_count": 31,
      "outputs": [
        {
          "output_type": "execute_result",
          "data": {
            "text/plain": [
              "array(['\"\\'', \"<script>alert('hi')</script>\",\n",
              "       datetime.datetime(2018, 2, 1, 0, 0),\n",
              "       '() { _; } >_[$($())] { touch /tmp/blns.shellshock2.fail; }',\n",
              "       'NIL', 'ðµ ð ð ð', 'â°â´âµâââ', '(â¯Â°â¡Â°ï¼â¯ï¸µ â»ââ»)', '0/0',\n",
              "       'ð©ð½', 'ÅâÂ´Â®â\\xa0Â¥Â¨ËÃ¸Ïââ', 'nil', -100, 'â°â´âµ', 'ð', 1e+96,\n",
              "       'ï¾ï½¥â¿ã¾â²(ï½¡ââ¿âï½¡)â±â¿ï½¥ï¾', 'Î©âÃ§ââ«ËÂµâ¤â¥Ã·',\n",
              "       'ÅâÂ´â°ËÃÂ¨ËÃâââ', 'ï¼ï¼ï¼',\n",
              "       '../../../../../../../../../../../etc/hosts',\n",
              "       '×Ö¸×Ö°×ªÖ¸×testØ§ÙØµÙØ\\xadØ§Øª Ø§ÙØªÙØ\\xadÙÙ', '<>?:\"{}|_+',\n",
              "       '\\'\\'\\'\\'\"', \",./;'[]\\\\-=\",\n",
              "       '() { 0; }; touch /tmp/blns.shellshock1.fail;',\n",
              "       'ì¬íê³¼íì ì´íì°êµ¬ì', 'testâ\\xa0testâ«',\n",
              "       '0ï¸â£ 1ï¸â£ 2ï¸â£ 3ï¸â£ 4ï¸â£ 5ï¸â£ 6ï¸â£ 7ï¸â£ 8ï¸â£ 9ï¸â£ ð',\n",
              "       nan, '!@#$%^&*()', \"'\",\n",
              "       'Ì¦HÍÌ¬Ì¤ÌÌ¤eÍ ÍÌÌ¥ÌÌ»ÍÌwÌhÌÌ¯ÍoÌÍÌÍÌ±Ì® ÒÌºÌÌÌÍWÌ·Ì¼Ì\\xadaÌºÌªÍiÌ¨ÍÍÌ\\xadÍÌ¯ÌtÌ¶Ì¼Ì®sÌÌÍÍ Ì\\xa0Ì«Ì\\xa0BÌ»ÍÍÍÍÌ³eÌµhÌµÌ¬ÍÌ«ÍiÌÌ¹ÍÌ³Ì³Ì®ÍÌ«nÍdÌ´ÌªÌÌ ÍÌ°ÍÌ©ÍÍÍÌ²TÍ¢ÍÌ¼ÍÌªhÍÍÌ®Ì»eÌ¬ÌÍÌ Ì¤Ì¹ÌWÍÍÍÌÌÍÍaÍÍÍÌ¹Ì¼',\n",
              "       '../../../../../../../../../../../etc/passwd%00', 'åè£½æ¼¢èª',\n",
              "       '`ââ¬â¹âºï¬ï¬â¡Â°Â·ââÂ±', 'ãã¼ãã£ã¼ã¸è¡ããªãã', 1, -0.5,\n",
              "       'ZÌ®ÌÍÌ\\xa0ÍÍAÌ¥ÌÌÍÌ»ÌLÌ£ÍÍÌ¯Ì¹ÌÍGÌ»OÌ\\xadÌÌ®', 'ã', 100,\n",
              "       '1;DROP TABLE users', -1, 'á', '(ï¾à²¥çà²¥ï¼ï¾ï»¿ â»ââ»', '00ËÆ$-',\n",
              "       '1/0', 'ï½ï½¨(Â´âï½â©', \"<svg><script>0<1>alert('XSS')</script>\",\n",
              "       'âââ', 'ã»(ï¿£âï¿£)ã»:*:', ',ãã»:*:ã»ãâ( â» Ï â» )ãã»:*:ã»ãâ',\n",
              "       'â¢', 'ç°ä¸\\xadããã«ããã¦ä¸ãã', '__ï¾(,_,*)', 'Ù¡Ù¢Ù£',\n",
              "       'Ø«Ù ÙÙØ³ Ø³ÙØ·Øª ÙØ¨Ø§ÙØªØ\\xadØ¯ÙØ¯Ø, Ø¬Ø²ÙØ±ØªÙ Ø¨Ø§Ø³ØªØ®Ø¯Ø§Ù Ø£Ù Ø¯ÙÙ. Ø¥Ø° ÙÙØ§Ø Ø§ÙØ³ØªØ§Ø± ÙØªÙØµÙØ¨ ÙØ§Ù. Ø£ÙÙÙ Ø§ÙØ·Ø§ÙÙØ§Ø Ø¨Ø±ÙØ·Ø§ÙÙØ§-ÙØ±ÙØ³Ø§ ÙØ¯ Ø£Ø®Ø°. Ø³ÙÙÙØ§ÙØ Ø¥ØªÙØ§ÙÙØ© Ø¨ÙÙ ÙØ§, ÙØ°ÙØ± Ø',\n",
              "       'ð¾ ð ð ð ð ð ð ð§', \"<img src=x onerror=alert('hi') />\",\n",
              "       'ã½à¼¼àºÙÍàºà¼½ï¾ ã½à¼¼àºÙÍàºà¼½ï¾', 'âð¿ ðªð¿ ðð¿ ðð¿ ðð¿ ðð¿',\n",
              "       'TÌÌ\\xadÌºÌºoÍ Ì·iÌ²Ì¬ÍÌªÍnÌÌÍvÍÌÌÌÌ¦oÌ¶ÌÌ°Ì\\xa0keÍÍÌ®ÌºÌªÌ¹Ì±Ì¤ ÌtÍÌÍÌ³Ì£Ì»ÌªhÌ¼ÍÌ²Ì¦Ì³ÌÌ²eÍÌ£Ì°Ì¦Ì¬Í Ì¢Ì¼Ì»Ì±ÌhÍÍÍÍÌÌ£Ì²iÌ¦Ì²Ì£Ì°Ì¤vÌ»ÍeÌºÌ\\xadÌ³ÌªÌ°-mÌ¢iÍnÌÌºÌÌ²Ì¯Ì°dÌµÌ¼ÌÍÌ©Ì¼ÌÌ³ ÌÌ¥Ì±Ì³Ì\\xadrÌÌÌeÍpÍ\\xa0rÌ¼ÌÌ»Ì\\xadÌeÍÌºÌ\\xa0Ì£sÌ',\n",
              "       'ÃÃÃÃËÃÃï£¿ÃÃÃâ', '(ï½¡â â âï½¡)', 'é¨è½æ\\xa0¼',\n",
              "       \"ËÉnbá´lÉ ÉuÆÉÉ¯ ÇÉ¹olop ÊÇ ÇÉ¹oqÉl Ên Êunpá´pá´Éuá´ É¹odÉ¯ÇÊ poÉ¯sná´Ç op pÇs 'Êá´lÇ Æuá´Ésá´dá´pÉ É¹nÊÇÊÉÇsuoÉ 'ÊÇÉ¯É Êá´s É¹olop É¯nsdá´ É¯ÇÉ¹oË¥\",\n",
              "       'á\\xa0',\n",
              "       '×Ö¼Ö°×¨Öµ××©×Ö´××ª, ×Ö¼Ö¸×¨Ö¸× ×Ö±×Ö¹×Ö´××, ×Öµ×ª ×Ö·×©Ö¼×Ö¸×Ö·×Ö´×, ×Ö°×Öµ×ª ×Ö¸×Ö¸×¨Ö¶×¥',\n",
              "       'Â¡â¢Â£Â¢âÂ§Â¶â¢ÂªÂºââ\\xa0',\n",
              "       '/dev/null; touch /tmp/blns.fail ; echo', \"1'; DROP TABLE users--\",\n",
              "       'ð¾ ð ð ð ð ð ð ð',\n",
              "       'Ì¡ÍÍÌIÍÌÌÌ¦nÍÍÍvÌ®Ì«okÌ²Ì«ÌÍiÌÍÌ\\xadÌ¹Ì\\xa0ÌnÌ¡Ì»Ì®Ì£ÌºgÌ²ÍÍÌ\\xadÍÌ¬Í Ì°tÍÌ¦hÌÌ²eÌ¢Ì¤ ÍÌ¬Ì²ÍfÌ´ÌÍÌ£eÍÍeÌ£Ì¥Ì©lÍÍÍiÍ\\xa0ÍÍÌ¦nÍÍÌÍÌ³Ì®gÍ Ì¨oÍ¡ÍÌªfÌÌ£Ì¬ ÌÌÍÌÍÌ®cÒÍÌ«ÍÍÍÍÍhÌµÌ¤Ì£ÍÍaÍÌÌ¼ÍÍoÌ¼Ì£Ì¥sÍ¢Ì±ÍÌºÌÌ¦Ì».ÌÌ',\n",
              "       'â', 'Â¸ËÃâÄ±ËÃÂ¯ËÂ¿', 'ì¸ëë°í\\xa0ë¥´',\n",
              "       'ÌÌºÍÌ¹Ì¯ÍTÌ±Ì¤ÍÌ¥ÍÍhÍÌ²eÍÍÌ¼ÌÌÌ¼Ì£Í ÍÌÌ±Ì\\xa0ÍÍÍNÍ\\xa0ÍeÌÌ±zÌÌÌÌºÍpÌ¤ÌºÌ¹ÍÌ¯ÍeÍÌ\\xa0Ì»Ì\\xa0rÌ¨Ì¤ÍÌºÌÍÌÌdÍÌ\\xa0ÌÌ\\xadÌ¬ÌiÌ¦ÍÌ©ÍÍÌ¤aÌ\\xa0ÌÌ¬ÍÌnÍÍ Ì»ÌÌ°ÍÍhÌµÍiÌ³ÌvÌ¢ÍeÍÌ\\xadÍ-ÒÌ\\xadÌ©Ì¼ÍmÌ¤Ì\\xadÌ«iÍÍÌÌ¦nÌÍdÌ£Ì ÍÌ¯Ì²ÍoÌ¨ÌÌ¯Ì°Ì²',\n",
              "       0, 'â©testâ©', 'â£', 'Ã¥ÃâÆÂ©ËâËÂ¬â¦Ã¦',\n",
              "       'ç¤¾æç§å\\xad¸é¢èªå\\xad¸ç\\xa0ç©¶æ', 'âªâªtestâª', 'ï»¿',\n",
              "       'â¤ï¸ ð ð ð ð ð ð ð ð ð ð ð ð ð ð', 'â«testâ«', 'â¦testâ§',\n",
              "       '\\'\"\\'\\'\\'\\'\"', 'â¡', 'ð\\xa0ð\\xa0±ð\\xa0¹ð\\xa0±ð\\xa0±¸ð\\xa0²ð\\xa0³'],\n",
              "      dtype=object)"
            ]
          },
          "metadata": {},
          "execution_count": 31
        }
      ]
    },
    {
      "cell_type": "code",
      "source": [
        "cust_demo_df.columns"
      ],
      "metadata": {
        "colab": {
          "base_uri": "https://localhost:8080/"
        },
        "id": "fa6H2hcgXyAU",
        "outputId": "16aa4867-dc5d-4fc5-e543-7728db88f21f"
      },
      "execution_count": 32,
      "outputs": [
        {
          "output_type": "execute_result",
          "data": {
            "text/plain": [
              "Index(['customer_id', 'first_name', 'last_name', 'gender',\n",
              "       'past_3_years_bike_related_purchases', 'DOB', 'job_title',\n",
              "       'job_industry_category', 'wealth_segment', 'deceased_indicator',\n",
              "       'default', 'owns_car', 'tenure'],\n",
              "      dtype='object')"
            ]
          },
          "metadata": {},
          "execution_count": 32
        }
      ]
    },
    {
      "cell_type": "code",
      "source": [
        "cust_demo_df['birth_year'] = cust_demo_df['DOB'].dt.year\n",
        "cust_demo_df.birth_year.nunique()"
      ],
      "metadata": {
        "colab": {
          "base_uri": "https://localhost:8080/"
        },
        "id": "2L_YWH07d5rd",
        "outputId": "e3ddd9f5-eb2c-473f-bcbe-7f88fae350e5"
      },
      "execution_count": 35,
      "outputs": [
        {
          "output_type": "execute_result",
          "data": {
            "text/plain": [
              "56"
            ]
          },
          "metadata": {},
          "execution_count": 35
        }
      ]
    },
    {
      "cell_type": "code",
      "source": [
        "cust_demo_df['age'] = 2023 - cust_demo_df['birth_year']\n",
        "cust_demo_df.age.unique()"
      ],
      "metadata": {
        "colab": {
          "base_uri": "https://localhost:8080/"
        },
        "id": "buUEKQMWfFw5",
        "outputId": "81ade35c-531d-4d58-ccbe-fd32544e9dc6"
      },
      "execution_count": 36,
      "outputs": [
        {
          "output_type": "execute_result",
          "data": {
            "text/plain": [
              "array([ 70.,  43.,  69.,  62.,  46.,  57.,  47.,  61.,  50.,  35.,  29.,\n",
              "        68.,  40.,  23.,  56.,  22.,  28.,  45.,  55.,  66., 180.,  60.,\n",
              "        38.,  44.,  42.,  48.,  51.,  31.,  64.,  67.,  27.,  53.,  58.,\n",
              "        21.,  63.,  49.,  54.,  30.,  34.,  37.,  65.,  39.,  25.,  26.,\n",
              "        33.,  24.,  41.,  59.,  36.,  nan,  52.,  32.,  79.,  92.,  88.,\n",
              "        80.,  83.])"
            ]
          },
          "metadata": {},
          "execution_count": 36
        }
      ]
    },
    {
      "cell_type": "code",
      "source": [
        "cust_demo_df.query('age == 180')"
      ],
      "metadata": {
        "colab": {
          "base_uri": "https://localhost:8080/",
          "height": 162
        },
        "id": "HPPwXtiXc--k",
        "outputId": "cbf6a1bd-12ef-488c-a607-e3114d62828b"
      },
      "execution_count": 37,
      "outputs": [
        {
          "output_type": "execute_result",
          "data": {
            "text/plain": [
              "    customer_id first_name last_name gender  \\\n",
              "33           34   Jephthah  Bachmann      U   \n",
              "\n",
              "    past_3_years_bike_related_purchases        DOB        job_title  \\\n",
              "33                                   59 1843-12-21  Legal Assistant   \n",
              "\n",
              "   job_industry_category     wealth_segment deceased_indicator default  \\\n",
              "33                    IT  Affluent Customer                  N     NaN   \n",
              "\n",
              "   owns_car  tenure  birth_year    age  \n",
              "33       No    20.0      1843.0  180.0  "
            ],
            "text/html": [
              "\n",
              "  <div id=\"df-c3223a7a-dfa7-4e02-97b9-d96e220233d8\">\n",
              "    <div class=\"colab-df-container\">\n",
              "      <div>\n",
              "<style scoped>\n",
              "    .dataframe tbody tr th:only-of-type {\n",
              "        vertical-align: middle;\n",
              "    }\n",
              "\n",
              "    .dataframe tbody tr th {\n",
              "        vertical-align: top;\n",
              "    }\n",
              "\n",
              "    .dataframe thead th {\n",
              "        text-align: right;\n",
              "    }\n",
              "</style>\n",
              "<table border=\"1\" class=\"dataframe\">\n",
              "  <thead>\n",
              "    <tr style=\"text-align: right;\">\n",
              "      <th></th>\n",
              "      <th>customer_id</th>\n",
              "      <th>first_name</th>\n",
              "      <th>last_name</th>\n",
              "      <th>gender</th>\n",
              "      <th>past_3_years_bike_related_purchases</th>\n",
              "      <th>DOB</th>\n",
              "      <th>job_title</th>\n",
              "      <th>job_industry_category</th>\n",
              "      <th>wealth_segment</th>\n",
              "      <th>deceased_indicator</th>\n",
              "      <th>default</th>\n",
              "      <th>owns_car</th>\n",
              "      <th>tenure</th>\n",
              "      <th>birth_year</th>\n",
              "      <th>age</th>\n",
              "    </tr>\n",
              "  </thead>\n",
              "  <tbody>\n",
              "    <tr>\n",
              "      <th>33</th>\n",
              "      <td>34</td>\n",
              "      <td>Jephthah</td>\n",
              "      <td>Bachmann</td>\n",
              "      <td>U</td>\n",
              "      <td>59</td>\n",
              "      <td>1843-12-21</td>\n",
              "      <td>Legal Assistant</td>\n",
              "      <td>IT</td>\n",
              "      <td>Affluent Customer</td>\n",
              "      <td>N</td>\n",
              "      <td>NaN</td>\n",
              "      <td>No</td>\n",
              "      <td>20.0</td>\n",
              "      <td>1843.0</td>\n",
              "      <td>180.0</td>\n",
              "    </tr>\n",
              "  </tbody>\n",
              "</table>\n",
              "</div>\n",
              "      <button class=\"colab-df-convert\" onclick=\"convertToInteractive('df-c3223a7a-dfa7-4e02-97b9-d96e220233d8')\"\n",
              "              title=\"Convert this dataframe to an interactive table.\"\n",
              "              style=\"display:none;\">\n",
              "        \n",
              "  <svg xmlns=\"http://www.w3.org/2000/svg\" height=\"24px\"viewBox=\"0 0 24 24\"\n",
              "       width=\"24px\">\n",
              "    <path d=\"M0 0h24v24H0V0z\" fill=\"none\"/>\n",
              "    <path d=\"M18.56 5.44l.94 2.06.94-2.06 2.06-.94-2.06-.94-.94-2.06-.94 2.06-2.06.94zm-11 1L8.5 8.5l.94-2.06 2.06-.94-2.06-.94L8.5 2.5l-.94 2.06-2.06.94zm10 10l.94 2.06.94-2.06 2.06-.94-2.06-.94-.94-2.06-.94 2.06-2.06.94z\"/><path d=\"M17.41 7.96l-1.37-1.37c-.4-.4-.92-.59-1.43-.59-.52 0-1.04.2-1.43.59L10.3 9.45l-7.72 7.72c-.78.78-.78 2.05 0 2.83L4 21.41c.39.39.9.59 1.41.59.51 0 1.02-.2 1.41-.59l7.78-7.78 2.81-2.81c.8-.78.8-2.07 0-2.86zM5.41 20L4 18.59l7.72-7.72 1.47 1.35L5.41 20z\"/>\n",
              "  </svg>\n",
              "      </button>\n",
              "      \n",
              "  <style>\n",
              "    .colab-df-container {\n",
              "      display:flex;\n",
              "      flex-wrap:wrap;\n",
              "      gap: 12px;\n",
              "    }\n",
              "\n",
              "    .colab-df-convert {\n",
              "      background-color: #E8F0FE;\n",
              "      border: none;\n",
              "      border-radius: 50%;\n",
              "      cursor: pointer;\n",
              "      display: none;\n",
              "      fill: #1967D2;\n",
              "      height: 32px;\n",
              "      padding: 0 0 0 0;\n",
              "      width: 32px;\n",
              "    }\n",
              "\n",
              "    .colab-df-convert:hover {\n",
              "      background-color: #E2EBFA;\n",
              "      box-shadow: 0px 1px 2px rgba(60, 64, 67, 0.3), 0px 1px 3px 1px rgba(60, 64, 67, 0.15);\n",
              "      fill: #174EA6;\n",
              "    }\n",
              "\n",
              "    [theme=dark] .colab-df-convert {\n",
              "      background-color: #3B4455;\n",
              "      fill: #D2E3FC;\n",
              "    }\n",
              "\n",
              "    [theme=dark] .colab-df-convert:hover {\n",
              "      background-color: #434B5C;\n",
              "      box-shadow: 0px 1px 3px 1px rgba(0, 0, 0, 0.15);\n",
              "      filter: drop-shadow(0px 1px 2px rgba(0, 0, 0, 0.3));\n",
              "      fill: #FFFFFF;\n",
              "    }\n",
              "  </style>\n",
              "\n",
              "      <script>\n",
              "        const buttonEl =\n",
              "          document.querySelector('#df-c3223a7a-dfa7-4e02-97b9-d96e220233d8 button.colab-df-convert');\n",
              "        buttonEl.style.display =\n",
              "          google.colab.kernel.accessAllowed ? 'block' : 'none';\n",
              "\n",
              "        async function convertToInteractive(key) {\n",
              "          const element = document.querySelector('#df-c3223a7a-dfa7-4e02-97b9-d96e220233d8');\n",
              "          const dataTable =\n",
              "            await google.colab.kernel.invokeFunction('convertToInteractive',\n",
              "                                                     [key], {});\n",
              "          if (!dataTable) return;\n",
              "\n",
              "          const docLinkHtml = 'Like what you see? Visit the ' +\n",
              "            '<a target=\"_blank\" href=https://colab.research.google.com/notebooks/data_table.ipynb>data table notebook</a>'\n",
              "            + ' to learn more about interactive tables.';\n",
              "          element.innerHTML = '';\n",
              "          dataTable['output_type'] = 'display_data';\n",
              "          await google.colab.output.renderOutput(dataTable, element);\n",
              "          const docLink = document.createElement('div');\n",
              "          docLink.innerHTML = docLinkHtml;\n",
              "          element.appendChild(docLink);\n",
              "        }\n",
              "      </script>\n",
              "    </div>\n",
              "  </div>\n",
              "  "
            ]
          },
          "metadata": {},
          "execution_count": 37
        }
      ]
    },
    {
      "cell_type": "markdown",
      "source": [
        "In the customer Demographics, after the data quality assessment, the following data quality issues were discoverd;\n",
        "\n",
        " - Completeness\n",
        " \n",
        " The dataset is made up of 4000 entries with 13 attributes (columns).\n",
        " The dataset contains missing values in the following columns;\n",
        " __last_name - 125 missing values__,\n",
        " __DOB - 87 missing values__,\n",
        " __job_title - 506 missing values__,\n",
        " __job_industry_category - 656 missing values__,\n",
        " __default - 302 missing values__,\n",
        " __tenure - 87 missing values__.\n",
        "\n",
        " **Completeness Solution*\n",
        "\n",
        " 1. We can fill in the missing values in the categorical variables like the job_industry_category with the most occurring category\n",
        "\n",
        " 2. For the the missing values in the DOB column, we can compute the age from using the DOB column and then fill in the missing values with the mean age.\n",
        "\n",
        " 3. the default column does not contain any information relevant to the analysis of the data and so will be dropped.\n",
        "\n",
        " 4. Additional information on the column, tenure is needed inorder for me to know the appropriate way to tackle the missingness in that column.\n",
        "\n",
        " 5. The rest of the missing values will be dropped.\n",
        "\n",
        "\n",
        "\n",
        "\n",
        "\n",
        "- Consistency\n",
        "\n",
        "The __gender__ column is made up of 3 distinct genders, Male, Female, and Unknown. But the representations of these genders are not consistent. Also, the representation of the 'Yes' and 'No' throughout the dataset is not consistent. In the __deceased_indicator__ column, it is represented using the first letter uppercase ('Y', 'N'), while in the __owns_car__ column, it is represented in full ('Yes', 'No').\n",
        "\n",
        "*Consistency Solution*\n",
        "\n",
        "1. The incorrectly spelt gender eg *'Female'* will be replaced with the correct spelling.\n",
        "\n",
        "2. The gender designation not represented in full eg (*'U'*,*'F'*) will be spelt in full.\n",
        "\n",
        "3. The 'Y' and 'N' designation used to represent 'Yes' and 'No' in the deceased_indicator column will be spelt in full\n",
        "\n",
        "\n",
        "\n",
        " - Relevancy\n",
        "\n",
        " The __default__ column contains data that are not relevant, it is not human readable and therefore doesn't add any useful information that could be relevant to the analysis of this data set.\n",
        "\n",
        "*Relevancy Solution*\n",
        "\n",
        "The default column will be dropped\n",
        "\n",
        "\n",
        " - Validity\n",
        "\n",
        " A customer, Jephthah \tBachmann \taccording to the dataset, is born on 1843-12-21 which means that this customer is 180years, this could probably be some mistake.\n",
        "\n",
        "The __customer_id__ is of an invalid datatype(int). The customer_id serves as a means of identification for the customers and so should be of the 'object' data type.\n",
        "\n",
        "*Validity Solution*\n",
        "\n",
        "1. The customer's date of birth will be replaced with 1943-12-21\n",
        "\n",
        "2. The customer_id dtype will be converted to 'object'\n",
        "\n",
        "\n",
        "\n",
        "## Transaction data set\n"
      ],
      "metadata": {
        "id": "cNyBcmEJXwx7"
      }
    },
    {
      "cell_type": "code",
      "source": [
        "# load the data set\n",
        "trans_df = pd.read_excel('/KPMG_VI_New_raw_data_update_final.xlsx',\n",
        "                            sheet_name = 'Transactions', skiprows = 1)\n",
        "trans_df.head()"
      ],
      "metadata": {
        "colab": {
          "base_uri": "https://localhost:8080/",
          "height": 340
        },
        "id": "mAWMVtSshdtQ",
        "outputId": "3401c9d4-9cf3-4bb4-acda-31d4c47307c5"
      },
      "execution_count": 48,
      "outputs": [
        {
          "output_type": "execute_result",
          "data": {
            "text/plain": [
              "   transaction_id  product_id  customer_id transaction_date  online_order  \\\n",
              "0               1           2         2950       2017-02-25           0.0   \n",
              "1               2           3         3120       2017-05-21           1.0   \n",
              "2               3          37          402       2017-10-16           0.0   \n",
              "3               4          88         3135       2017-08-31           0.0   \n",
              "4               5          78          787       2017-10-01           1.0   \n",
              "\n",
              "  order_status           brand product_line product_class product_size  \\\n",
              "0     Approved           Solex     Standard        medium       medium   \n",
              "1     Approved   Trek Bicycles     Standard        medium        large   \n",
              "2     Approved      OHM Cycles     Standard           low       medium   \n",
              "3     Approved  Norco Bicycles     Standard        medium       medium   \n",
              "4     Approved  Giant Bicycles     Standard        medium        large   \n",
              "\n",
              "   list_price  standard_cost  product_first_sold_date  \n",
              "0       71.49          53.62                  41245.0  \n",
              "1     2091.47         388.92                  41701.0  \n",
              "2     1793.43         248.82                  36361.0  \n",
              "3     1198.46         381.10                  36145.0  \n",
              "4     1765.30         709.48                  42226.0  "
            ],
            "text/html": [
              "\n",
              "  <div id=\"df-721d207b-60e4-465d-9bba-2afbef6574d6\">\n",
              "    <div class=\"colab-df-container\">\n",
              "      <div>\n",
              "<style scoped>\n",
              "    .dataframe tbody tr th:only-of-type {\n",
              "        vertical-align: middle;\n",
              "    }\n",
              "\n",
              "    .dataframe tbody tr th {\n",
              "        vertical-align: top;\n",
              "    }\n",
              "\n",
              "    .dataframe thead th {\n",
              "        text-align: right;\n",
              "    }\n",
              "</style>\n",
              "<table border=\"1\" class=\"dataframe\">\n",
              "  <thead>\n",
              "    <tr style=\"text-align: right;\">\n",
              "      <th></th>\n",
              "      <th>transaction_id</th>\n",
              "      <th>product_id</th>\n",
              "      <th>customer_id</th>\n",
              "      <th>transaction_date</th>\n",
              "      <th>online_order</th>\n",
              "      <th>order_status</th>\n",
              "      <th>brand</th>\n",
              "      <th>product_line</th>\n",
              "      <th>product_class</th>\n",
              "      <th>product_size</th>\n",
              "      <th>list_price</th>\n",
              "      <th>standard_cost</th>\n",
              "      <th>product_first_sold_date</th>\n",
              "    </tr>\n",
              "  </thead>\n",
              "  <tbody>\n",
              "    <tr>\n",
              "      <th>0</th>\n",
              "      <td>1</td>\n",
              "      <td>2</td>\n",
              "      <td>2950</td>\n",
              "      <td>2017-02-25</td>\n",
              "      <td>0.0</td>\n",
              "      <td>Approved</td>\n",
              "      <td>Solex</td>\n",
              "      <td>Standard</td>\n",
              "      <td>medium</td>\n",
              "      <td>medium</td>\n",
              "      <td>71.49</td>\n",
              "      <td>53.62</td>\n",
              "      <td>41245.0</td>\n",
              "    </tr>\n",
              "    <tr>\n",
              "      <th>1</th>\n",
              "      <td>2</td>\n",
              "      <td>3</td>\n",
              "      <td>3120</td>\n",
              "      <td>2017-05-21</td>\n",
              "      <td>1.0</td>\n",
              "      <td>Approved</td>\n",
              "      <td>Trek Bicycles</td>\n",
              "      <td>Standard</td>\n",
              "      <td>medium</td>\n",
              "      <td>large</td>\n",
              "      <td>2091.47</td>\n",
              "      <td>388.92</td>\n",
              "      <td>41701.0</td>\n",
              "    </tr>\n",
              "    <tr>\n",
              "      <th>2</th>\n",
              "      <td>3</td>\n",
              "      <td>37</td>\n",
              "      <td>402</td>\n",
              "      <td>2017-10-16</td>\n",
              "      <td>0.0</td>\n",
              "      <td>Approved</td>\n",
              "      <td>OHM Cycles</td>\n",
              "      <td>Standard</td>\n",
              "      <td>low</td>\n",
              "      <td>medium</td>\n",
              "      <td>1793.43</td>\n",
              "      <td>248.82</td>\n",
              "      <td>36361.0</td>\n",
              "    </tr>\n",
              "    <tr>\n",
              "      <th>3</th>\n",
              "      <td>4</td>\n",
              "      <td>88</td>\n",
              "      <td>3135</td>\n",
              "      <td>2017-08-31</td>\n",
              "      <td>0.0</td>\n",
              "      <td>Approved</td>\n",
              "      <td>Norco Bicycles</td>\n",
              "      <td>Standard</td>\n",
              "      <td>medium</td>\n",
              "      <td>medium</td>\n",
              "      <td>1198.46</td>\n",
              "      <td>381.10</td>\n",
              "      <td>36145.0</td>\n",
              "    </tr>\n",
              "    <tr>\n",
              "      <th>4</th>\n",
              "      <td>5</td>\n",
              "      <td>78</td>\n",
              "      <td>787</td>\n",
              "      <td>2017-10-01</td>\n",
              "      <td>1.0</td>\n",
              "      <td>Approved</td>\n",
              "      <td>Giant Bicycles</td>\n",
              "      <td>Standard</td>\n",
              "      <td>medium</td>\n",
              "      <td>large</td>\n",
              "      <td>1765.30</td>\n",
              "      <td>709.48</td>\n",
              "      <td>42226.0</td>\n",
              "    </tr>\n",
              "  </tbody>\n",
              "</table>\n",
              "</div>\n",
              "      <button class=\"colab-df-convert\" onclick=\"convertToInteractive('df-721d207b-60e4-465d-9bba-2afbef6574d6')\"\n",
              "              title=\"Convert this dataframe to an interactive table.\"\n",
              "              style=\"display:none;\">\n",
              "        \n",
              "  <svg xmlns=\"http://www.w3.org/2000/svg\" height=\"24px\"viewBox=\"0 0 24 24\"\n",
              "       width=\"24px\">\n",
              "    <path d=\"M0 0h24v24H0V0z\" fill=\"none\"/>\n",
              "    <path d=\"M18.56 5.44l.94 2.06.94-2.06 2.06-.94-2.06-.94-.94-2.06-.94 2.06-2.06.94zm-11 1L8.5 8.5l.94-2.06 2.06-.94-2.06-.94L8.5 2.5l-.94 2.06-2.06.94zm10 10l.94 2.06.94-2.06 2.06-.94-2.06-.94-.94-2.06-.94 2.06-2.06.94z\"/><path d=\"M17.41 7.96l-1.37-1.37c-.4-.4-.92-.59-1.43-.59-.52 0-1.04.2-1.43.59L10.3 9.45l-7.72 7.72c-.78.78-.78 2.05 0 2.83L4 21.41c.39.39.9.59 1.41.59.51 0 1.02-.2 1.41-.59l7.78-7.78 2.81-2.81c.8-.78.8-2.07 0-2.86zM5.41 20L4 18.59l7.72-7.72 1.47 1.35L5.41 20z\"/>\n",
              "  </svg>\n",
              "      </button>\n",
              "      \n",
              "  <style>\n",
              "    .colab-df-container {\n",
              "      display:flex;\n",
              "      flex-wrap:wrap;\n",
              "      gap: 12px;\n",
              "    }\n",
              "\n",
              "    .colab-df-convert {\n",
              "      background-color: #E8F0FE;\n",
              "      border: none;\n",
              "      border-radius: 50%;\n",
              "      cursor: pointer;\n",
              "      display: none;\n",
              "      fill: #1967D2;\n",
              "      height: 32px;\n",
              "      padding: 0 0 0 0;\n",
              "      width: 32px;\n",
              "    }\n",
              "\n",
              "    .colab-df-convert:hover {\n",
              "      background-color: #E2EBFA;\n",
              "      box-shadow: 0px 1px 2px rgba(60, 64, 67, 0.3), 0px 1px 3px 1px rgba(60, 64, 67, 0.15);\n",
              "      fill: #174EA6;\n",
              "    }\n",
              "\n",
              "    [theme=dark] .colab-df-convert {\n",
              "      background-color: #3B4455;\n",
              "      fill: #D2E3FC;\n",
              "    }\n",
              "\n",
              "    [theme=dark] .colab-df-convert:hover {\n",
              "      background-color: #434B5C;\n",
              "      box-shadow: 0px 1px 3px 1px rgba(0, 0, 0, 0.15);\n",
              "      filter: drop-shadow(0px 1px 2px rgba(0, 0, 0, 0.3));\n",
              "      fill: #FFFFFF;\n",
              "    }\n",
              "  </style>\n",
              "\n",
              "      <script>\n",
              "        const buttonEl =\n",
              "          document.querySelector('#df-721d207b-60e4-465d-9bba-2afbef6574d6 button.colab-df-convert');\n",
              "        buttonEl.style.display =\n",
              "          google.colab.kernel.accessAllowed ? 'block' : 'none';\n",
              "\n",
              "        async function convertToInteractive(key) {\n",
              "          const element = document.querySelector('#df-721d207b-60e4-465d-9bba-2afbef6574d6');\n",
              "          const dataTable =\n",
              "            await google.colab.kernel.invokeFunction('convertToInteractive',\n",
              "                                                     [key], {});\n",
              "          if (!dataTable) return;\n",
              "\n",
              "          const docLinkHtml = 'Like what you see? Visit the ' +\n",
              "            '<a target=\"_blank\" href=https://colab.research.google.com/notebooks/data_table.ipynb>data table notebook</a>'\n",
              "            + ' to learn more about interactive tables.';\n",
              "          element.innerHTML = '';\n",
              "          dataTable['output_type'] = 'display_data';\n",
              "          await google.colab.output.renderOutput(dataTable, element);\n",
              "          const docLink = document.createElement('div');\n",
              "          docLink.innerHTML = docLinkHtml;\n",
              "          element.appendChild(docLink);\n",
              "        }\n",
              "      </script>\n",
              "    </div>\n",
              "  </div>\n",
              "  "
            ]
          },
          "metadata": {},
          "execution_count": 48
        }
      ]
    },
    {
      "cell_type": "code",
      "source": [
        "# get an overview of the data\n",
        "print(trans_df.shape)\n",
        "trans_df.info()"
      ],
      "metadata": {
        "colab": {
          "base_uri": "https://localhost:8080/"
        },
        "id": "4jqAPpJ7kUKx",
        "outputId": "a9b972c4-4d04-4b98-a858-75352c0c2ce2"
      },
      "execution_count": 39,
      "outputs": [
        {
          "output_type": "stream",
          "name": "stdout",
          "text": [
            "(20000, 13)\n",
            "<class 'pandas.core.frame.DataFrame'>\n",
            "RangeIndex: 20000 entries, 0 to 19999\n",
            "Data columns (total 13 columns):\n",
            " #   Column                   Non-Null Count  Dtype         \n",
            "---  ------                   --------------  -----         \n",
            " 0   transaction_id           20000 non-null  int64         \n",
            " 1   product_id               20000 non-null  int64         \n",
            " 2   customer_id              20000 non-null  int64         \n",
            " 3   transaction_date         20000 non-null  datetime64[ns]\n",
            " 4   online_order             19640 non-null  float64       \n",
            " 5   order_status             20000 non-null  object        \n",
            " 6   brand                    19803 non-null  object        \n",
            " 7   product_line             19803 non-null  object        \n",
            " 8   product_class            19803 non-null  object        \n",
            " 9   product_size             19803 non-null  object        \n",
            " 10  list_price               20000 non-null  float64       \n",
            " 11  standard_cost            19803 non-null  float64       \n",
            " 12  product_first_sold_date  19803 non-null  float64       \n",
            "dtypes: datetime64[ns](1), float64(4), int64(3), object(5)\n",
            "memory usage: 2.0+ MB\n"
          ]
        }
      ]
    },
    {
      "cell_type": "code",
      "source": [
        "# check for missing values\n",
        "trans_df.isna().sum()"
      ],
      "metadata": {
        "colab": {
          "base_uri": "https://localhost:8080/"
        },
        "id": "kliAeFsTlTNg",
        "outputId": "b22df9ee-a2d7-4b90-b7d9-e70b780f11c5"
      },
      "execution_count": 40,
      "outputs": [
        {
          "output_type": "execute_result",
          "data": {
            "text/plain": [
              "transaction_id               0\n",
              "product_id                   0\n",
              "customer_id                  0\n",
              "transaction_date             0\n",
              "online_order               360\n",
              "order_status                 0\n",
              "brand                      197\n",
              "product_line               197\n",
              "product_class              197\n",
              "product_size               197\n",
              "list_price                   0\n",
              "standard_cost              197\n",
              "product_first_sold_date    197\n",
              "dtype: int64"
            ]
          },
          "metadata": {},
          "execution_count": 40
        }
      ]
    },
    {
      "cell_type": "code",
      "source": [
        "# checking for unique values inorder to make sure there is no incorrect entry\n",
        "print(trans_df.brand.unique())"
      ],
      "metadata": {
        "colab": {
          "base_uri": "https://localhost:8080/"
        },
        "id": "aPr5iCTzpD4f",
        "outputId": "a61dc4ed-1314-4371-ec55-5a5aad2a33aa"
      },
      "execution_count": 44,
      "outputs": [
        {
          "output_type": "stream",
          "name": "stdout",
          "text": [
            "['Solex' 'Trek Bicycles' 'OHM Cycles' 'Norco Bicycles' 'Giant Bicycles'\n",
            " 'WeareA2B' nan]\n"
          ]
        }
      ]
    },
    {
      "cell_type": "code",
      "source": [
        "print(trans_df.product_line.unique())\n",
        "print(trans_df.product_class.unique())\n",
        "print(trans_df.product_size.unique())\n",
        "print(trans_df.order_status.unique())"
      ],
      "metadata": {
        "colab": {
          "base_uri": "https://localhost:8080/"
        },
        "id": "mqO27o43lZm3",
        "outputId": "60bae3e8-a220-41b8-acfd-9aa248dc7b87"
      },
      "execution_count": 43,
      "outputs": [
        {
          "output_type": "stream",
          "name": "stdout",
          "text": [
            "['Standard' 'Road' 'Mountain' 'Touring' nan]\n",
            "['medium' 'low' 'high' nan]\n",
            "['medium' 'large' 'small' nan]\n",
            "['Approved' 'Cancelled']\n"
          ]
        }
      ]
    },
    {
      "cell_type": "code",
      "source": [
        "# checking the transaction_date to make sure there are no irregularities in the transaction date column\n",
        "trans_df.transaction_date.unique()"
      ],
      "metadata": {
        "colab": {
          "base_uri": "https://localhost:8080/"
        },
        "id": "4FXfUYvFxLHg",
        "outputId": "50477e34-594d-4cad-8f2f-ec9203d5d0a5"
      },
      "execution_count": 50,
      "outputs": [
        {
          "output_type": "execute_result",
          "data": {
            "text/plain": [
              "array(['2017-02-25T00:00:00.000000000', '2017-05-21T00:00:00.000000000',\n",
              "       '2017-10-16T00:00:00.000000000', '2017-08-31T00:00:00.000000000',\n",
              "       '2017-10-01T00:00:00.000000000', '2017-03-08T00:00:00.000000000',\n",
              "       '2017-04-21T00:00:00.000000000', '2017-07-15T00:00:00.000000000',\n",
              "       '2017-08-10T00:00:00.000000000', '2017-08-30T00:00:00.000000000',\n",
              "       '2017-01-17T00:00:00.000000000', '2017-01-05T00:00:00.000000000',\n",
              "       '2017-02-26T00:00:00.000000000', '2017-09-10T00:00:00.000000000',\n",
              "       '2017-06-11T00:00:00.000000000', '2017-10-10T00:00:00.000000000',\n",
              "       '2017-04-03T00:00:00.000000000', '2017-06-02T00:00:00.000000000',\n",
              "       '2017-04-06T00:00:00.000000000', '2017-01-28T00:00:00.000000000',\n",
              "       '2017-10-09T00:00:00.000000000', '2017-06-29T00:00:00.000000000',\n",
              "       '2017-04-08T00:00:00.000000000', '2017-10-18T00:00:00.000000000',\n",
              "       '2017-01-10T00:00:00.000000000', '2017-04-11T00:00:00.000000000',\n",
              "       '2017-12-23T00:00:00.000000000', '2017-10-13T00:00:00.000000000',\n",
              "       '2017-03-15T00:00:00.000000000', '2017-09-05T00:00:00.000000000',\n",
              "       '2017-02-18T00:00:00.000000000', '2017-03-20T00:00:00.000000000',\n",
              "       '2017-02-28T00:00:00.000000000', '2017-08-20T00:00:00.000000000',\n",
              "       '2017-07-07T00:00:00.000000000', '2017-01-09T00:00:00.000000000',\n",
              "       '2017-12-06T00:00:00.000000000', '2017-09-12T00:00:00.000000000',\n",
              "       '2017-11-28T00:00:00.000000000', '2017-05-08T00:00:00.000000000',\n",
              "       '2017-05-14T00:00:00.000000000', '2017-03-17T00:00:00.000000000',\n",
              "       '2017-12-22T00:00:00.000000000', '2017-06-07T00:00:00.000000000',\n",
              "       '2017-06-20T00:00:00.000000000', '2017-05-07T00:00:00.000000000',\n",
              "       '2017-06-10T00:00:00.000000000', '2017-06-17T00:00:00.000000000',\n",
              "       '2017-05-10T00:00:00.000000000', '2017-03-24T00:00:00.000000000',\n",
              "       '2017-11-27T00:00:00.000000000', '2017-12-21T00:00:00.000000000',\n",
              "       '2017-02-09T00:00:00.000000000', '2017-09-18T00:00:00.000000000',\n",
              "       '2017-11-14T00:00:00.000000000', '2017-02-15T00:00:00.000000000',\n",
              "       '2017-12-18T00:00:00.000000000', '2017-02-24T00:00:00.000000000',\n",
              "       '2017-12-17T00:00:00.000000000', '2017-07-08T00:00:00.000000000',\n",
              "       '2017-05-16T00:00:00.000000000', '2017-02-23T00:00:00.000000000',\n",
              "       '2017-07-03T00:00:00.000000000', '2017-09-30T00:00:00.000000000',\n",
              "       '2017-10-21T00:00:00.000000000', '2017-05-06T00:00:00.000000000',\n",
              "       '2017-01-03T00:00:00.000000000', '2017-05-09T00:00:00.000000000',\n",
              "       '2017-07-23T00:00:00.000000000', '2017-01-21T00:00:00.000000000',\n",
              "       '2017-03-10T00:00:00.000000000', '2017-11-07T00:00:00.000000000',\n",
              "       '2017-12-16T00:00:00.000000000', '2017-10-07T00:00:00.000000000',\n",
              "       '2017-04-27T00:00:00.000000000', '2017-04-01T00:00:00.000000000',\n",
              "       '2017-11-02T00:00:00.000000000', '2017-02-13T00:00:00.000000000',\n",
              "       '2017-07-19T00:00:00.000000000', '2017-05-23T00:00:00.000000000',\n",
              "       '2017-08-06T00:00:00.000000000', '2017-04-04T00:00:00.000000000',\n",
              "       '2017-08-15T00:00:00.000000000', '2017-04-15T00:00:00.000000000',\n",
              "       '2017-07-25T00:00:00.000000000', '2017-02-21T00:00:00.000000000',\n",
              "       '2017-05-31T00:00:00.000000000', '2017-06-23T00:00:00.000000000',\n",
              "       '2017-03-26T00:00:00.000000000', '2017-07-31T00:00:00.000000000',\n",
              "       '2017-07-27T00:00:00.000000000', '2017-04-14T00:00:00.000000000',\n",
              "       '2017-11-12T00:00:00.000000000', '2017-10-26T00:00:00.000000000',\n",
              "       '2017-10-11T00:00:00.000000000', '2017-03-27T00:00:00.000000000',\n",
              "       '2017-11-04T00:00:00.000000000', '2017-10-24T00:00:00.000000000',\n",
              "       '2017-05-01T00:00:00.000000000', '2017-11-21T00:00:00.000000000',\n",
              "       '2017-03-21T00:00:00.000000000', '2017-02-20T00:00:00.000000000',\n",
              "       '2017-06-16T00:00:00.000000000', '2017-12-04T00:00:00.000000000',\n",
              "       '2017-12-01T00:00:00.000000000', '2017-03-05T00:00:00.000000000',\n",
              "       '2017-03-16T00:00:00.000000000', '2017-06-05T00:00:00.000000000',\n",
              "       '2017-09-04T00:00:00.000000000', '2017-01-18T00:00:00.000000000',\n",
              "       '2017-09-28T00:00:00.000000000', '2017-09-02T00:00:00.000000000',\n",
              "       '2017-10-17T00:00:00.000000000', '2017-04-25T00:00:00.000000000',\n",
              "       '2017-09-23T00:00:00.000000000', '2017-08-02T00:00:00.000000000',\n",
              "       '2017-03-25T00:00:00.000000000', '2017-01-01T00:00:00.000000000',\n",
              "       '2017-12-25T00:00:00.000000000', '2017-01-26T00:00:00.000000000',\n",
              "       '2017-12-20T00:00:00.000000000', '2017-01-13T00:00:00.000000000',\n",
              "       '2017-11-11T00:00:00.000000000', '2017-08-19T00:00:00.000000000',\n",
              "       '2017-08-22T00:00:00.000000000', '2017-09-15T00:00:00.000000000',\n",
              "       '2017-03-01T00:00:00.000000000', '2017-08-16T00:00:00.000000000',\n",
              "       '2017-08-27T00:00:00.000000000', '2017-07-10T00:00:00.000000000',\n",
              "       '2017-12-11T00:00:00.000000000', '2017-05-20T00:00:00.000000000',\n",
              "       '2017-07-30T00:00:00.000000000', '2017-10-25T00:00:00.000000000',\n",
              "       '2017-04-26T00:00:00.000000000', '2017-02-02T00:00:00.000000000',\n",
              "       '2017-05-02T00:00:00.000000000', '2017-10-22T00:00:00.000000000',\n",
              "       '2017-11-16T00:00:00.000000000', '2017-03-30T00:00:00.000000000',\n",
              "       '2017-04-13T00:00:00.000000000', '2017-01-31T00:00:00.000000000',\n",
              "       '2017-03-18T00:00:00.000000000', '2017-01-07T00:00:00.000000000',\n",
              "       '2017-07-05T00:00:00.000000000', '2017-11-19T00:00:00.000000000',\n",
              "       '2017-11-08T00:00:00.000000000', '2017-07-24T00:00:00.000000000',\n",
              "       '2017-01-15T00:00:00.000000000', '2017-01-12T00:00:00.000000000',\n",
              "       '2017-06-30T00:00:00.000000000', '2017-06-22T00:00:00.000000000',\n",
              "       '2017-12-27T00:00:00.000000000', '2017-06-08T00:00:00.000000000',\n",
              "       '2017-07-29T00:00:00.000000000', '2017-05-27T00:00:00.000000000',\n",
              "       '2017-05-05T00:00:00.000000000', '2017-09-09T00:00:00.000000000',\n",
              "       '2017-09-22T00:00:00.000000000', '2017-04-12T00:00:00.000000000',\n",
              "       '2017-12-14T00:00:00.000000000', '2017-03-22T00:00:00.000000000',\n",
              "       '2017-11-29T00:00:00.000000000', '2017-06-09T00:00:00.000000000',\n",
              "       '2017-11-13T00:00:00.000000000', '2017-04-09T00:00:00.000000000',\n",
              "       '2017-11-30T00:00:00.000000000', '2017-03-13T00:00:00.000000000',\n",
              "       '2017-08-12T00:00:00.000000000', '2017-08-04T00:00:00.000000000',\n",
              "       '2017-09-01T00:00:00.000000000', '2017-07-02T00:00:00.000000000',\n",
              "       '2017-03-11T00:00:00.000000000', '2017-10-08T00:00:00.000000000',\n",
              "       '2017-11-23T00:00:00.000000000', '2017-01-22T00:00:00.000000000',\n",
              "       '2017-01-29T00:00:00.000000000', '2017-07-21T00:00:00.000000000',\n",
              "       '2017-02-10T00:00:00.000000000', '2017-11-25T00:00:00.000000000',\n",
              "       '2017-12-03T00:00:00.000000000', '2017-12-30T00:00:00.000000000',\n",
              "       '2017-07-26T00:00:00.000000000', '2017-06-15T00:00:00.000000000',\n",
              "       '2017-07-06T00:00:00.000000000', '2017-12-28T00:00:00.000000000',\n",
              "       '2017-01-30T00:00:00.000000000', '2017-06-26T00:00:00.000000000',\n",
              "       '2017-08-13T00:00:00.000000000', '2017-01-25T00:00:00.000000000',\n",
              "       '2017-07-11T00:00:00.000000000', '2017-04-30T00:00:00.000000000',\n",
              "       '2017-05-19T00:00:00.000000000', '2017-05-26T00:00:00.000000000',\n",
              "       '2017-02-03T00:00:00.000000000', '2017-04-28T00:00:00.000000000',\n",
              "       '2017-03-23T00:00:00.000000000', '2017-06-03T00:00:00.000000000',\n",
              "       '2017-05-04T00:00:00.000000000', '2017-03-29T00:00:00.000000000',\n",
              "       '2017-10-03T00:00:00.000000000', '2017-08-07T00:00:00.000000000',\n",
              "       '2017-02-07T00:00:00.000000000', '2017-11-20T00:00:00.000000000',\n",
              "       '2017-04-05T00:00:00.000000000', '2017-10-28T00:00:00.000000000',\n",
              "       '2017-08-25T00:00:00.000000000', '2017-01-20T00:00:00.000000000',\n",
              "       '2017-03-14T00:00:00.000000000', '2017-05-24T00:00:00.000000000',\n",
              "       '2017-11-18T00:00:00.000000000', '2017-04-07T00:00:00.000000000',\n",
              "       '2017-01-04T00:00:00.000000000', '2017-12-13T00:00:00.000000000',\n",
              "       '2017-04-20T00:00:00.000000000', '2017-03-07T00:00:00.000000000',\n",
              "       '2017-08-01T00:00:00.000000000', '2017-06-19T00:00:00.000000000',\n",
              "       '2017-01-23T00:00:00.000000000', '2017-04-19T00:00:00.000000000',\n",
              "       '2017-08-11T00:00:00.000000000', '2017-11-15T00:00:00.000000000',\n",
              "       '2017-11-01T00:00:00.000000000', '2017-10-05T00:00:00.000000000',\n",
              "       '2017-10-30T00:00:00.000000000', '2017-01-02T00:00:00.000000000',\n",
              "       '2017-07-09T00:00:00.000000000', '2017-10-20T00:00:00.000000000',\n",
              "       '2017-11-10T00:00:00.000000000', '2017-08-14T00:00:00.000000000',\n",
              "       '2017-09-13T00:00:00.000000000', '2017-05-03T00:00:00.000000000',\n",
              "       '2017-01-24T00:00:00.000000000', '2017-08-03T00:00:00.000000000',\n",
              "       '2017-08-28T00:00:00.000000000', '2017-06-24T00:00:00.000000000',\n",
              "       '2017-10-27T00:00:00.000000000', '2017-03-03T00:00:00.000000000',\n",
              "       '2017-12-02T00:00:00.000000000', '2017-10-15T00:00:00.000000000',\n",
              "       '2017-10-12T00:00:00.000000000', '2017-03-19T00:00:00.000000000',\n",
              "       '2017-06-27T00:00:00.000000000', '2017-02-27T00:00:00.000000000',\n",
              "       '2017-03-12T00:00:00.000000000', '2017-06-14T00:00:00.000000000',\n",
              "       '2017-02-17T00:00:00.000000000', '2017-09-14T00:00:00.000000000',\n",
              "       '2017-04-17T00:00:00.000000000', '2017-05-11T00:00:00.000000000',\n",
              "       '2017-11-03T00:00:00.000000000', '2017-10-02T00:00:00.000000000',\n",
              "       '2017-12-10T00:00:00.000000000', '2017-05-25T00:00:00.000000000',\n",
              "       '2017-08-26T00:00:00.000000000', '2017-09-06T00:00:00.000000000',\n",
              "       '2017-04-24T00:00:00.000000000', '2017-12-15T00:00:00.000000000',\n",
              "       '2017-02-12T00:00:00.000000000', '2017-07-22T00:00:00.000000000',\n",
              "       '2017-09-26T00:00:00.000000000', '2017-12-05T00:00:00.000000000',\n",
              "       '2017-03-31T00:00:00.000000000', '2017-11-22T00:00:00.000000000',\n",
              "       '2017-04-29T00:00:00.000000000', '2017-07-14T00:00:00.000000000',\n",
              "       '2017-09-08T00:00:00.000000000', '2017-04-22T00:00:00.000000000',\n",
              "       '2017-01-11T00:00:00.000000000', '2017-08-09T00:00:00.000000000',\n",
              "       '2017-05-29T00:00:00.000000000', '2017-06-13T00:00:00.000000000',\n",
              "       '2017-07-28T00:00:00.000000000', '2017-04-23T00:00:00.000000000',\n",
              "       '2017-07-04T00:00:00.000000000', '2017-10-19T00:00:00.000000000',\n",
              "       '2017-09-21T00:00:00.000000000', '2017-04-02T00:00:00.000000000',\n",
              "       '2017-08-18T00:00:00.000000000', '2017-08-21T00:00:00.000000000',\n",
              "       '2017-03-06T00:00:00.000000000', '2017-01-16T00:00:00.000000000',\n",
              "       '2017-02-22T00:00:00.000000000', '2017-03-09T00:00:00.000000000',\n",
              "       '2017-01-27T00:00:00.000000000', '2017-12-19T00:00:00.000000000',\n",
              "       '2017-04-16T00:00:00.000000000', '2017-10-04T00:00:00.000000000',\n",
              "       '2017-02-16T00:00:00.000000000', '2017-08-17T00:00:00.000000000',\n",
              "       '2017-02-01T00:00:00.000000000', '2017-12-08T00:00:00.000000000',\n",
              "       '2017-08-23T00:00:00.000000000', '2017-05-12T00:00:00.000000000',\n",
              "       '2017-03-04T00:00:00.000000000', '2017-05-28T00:00:00.000000000',\n",
              "       '2017-07-20T00:00:00.000000000', '2017-07-13T00:00:00.000000000',\n",
              "       '2017-10-14T00:00:00.000000000', '2017-06-12T00:00:00.000000000',\n",
              "       '2017-02-14T00:00:00.000000000', '2017-02-11T00:00:00.000000000',\n",
              "       '2017-10-23T00:00:00.000000000', '2017-06-28T00:00:00.000000000',\n",
              "       '2017-06-04T00:00:00.000000000', '2017-04-18T00:00:00.000000000',\n",
              "       '2017-09-16T00:00:00.000000000', '2017-05-15T00:00:00.000000000',\n",
              "       '2017-05-22T00:00:00.000000000', '2017-06-06T00:00:00.000000000',\n",
              "       '2017-12-09T00:00:00.000000000', '2017-07-18T00:00:00.000000000',\n",
              "       '2017-02-06T00:00:00.000000000', '2017-11-09T00:00:00.000000000',\n",
              "       '2017-06-21T00:00:00.000000000', '2017-07-17T00:00:00.000000000',\n",
              "       '2017-10-29T00:00:00.000000000', '2017-05-13T00:00:00.000000000',\n",
              "       '2017-10-06T00:00:00.000000000', '2017-02-04T00:00:00.000000000',\n",
              "       '2017-11-05T00:00:00.000000000', '2017-02-08T00:00:00.000000000',\n",
              "       '2017-11-06T00:00:00.000000000', '2017-09-20T00:00:00.000000000',\n",
              "       '2017-04-10T00:00:00.000000000', '2017-11-17T00:00:00.000000000',\n",
              "       '2017-12-07T00:00:00.000000000', '2017-12-12T00:00:00.000000000',\n",
              "       '2017-01-19T00:00:00.000000000', '2017-05-17T00:00:00.000000000',\n",
              "       '2017-02-19T00:00:00.000000000', '2017-09-19T00:00:00.000000000',\n",
              "       '2017-09-29T00:00:00.000000000', '2017-05-18T00:00:00.000000000',\n",
              "       '2017-07-01T00:00:00.000000000', '2017-12-29T00:00:00.000000000',\n",
              "       '2017-11-24T00:00:00.000000000', '2017-01-08T00:00:00.000000000',\n",
              "       '2017-08-24T00:00:00.000000000', '2017-07-12T00:00:00.000000000',\n",
              "       '2017-08-08T00:00:00.000000000', '2017-02-05T00:00:00.000000000',\n",
              "       '2017-07-16T00:00:00.000000000', '2017-09-27T00:00:00.000000000',\n",
              "       '2017-01-14T00:00:00.000000000', '2017-03-28T00:00:00.000000000',\n",
              "       '2017-08-29T00:00:00.000000000', '2017-09-24T00:00:00.000000000',\n",
              "       '2017-10-31T00:00:00.000000000', '2017-12-24T00:00:00.000000000',\n",
              "       '2017-09-03T00:00:00.000000000', '2017-09-17T00:00:00.000000000',\n",
              "       '2017-08-05T00:00:00.000000000', '2017-06-18T00:00:00.000000000',\n",
              "       '2017-09-07T00:00:00.000000000', '2017-09-25T00:00:00.000000000',\n",
              "       '2017-06-01T00:00:00.000000000', '2017-11-26T00:00:00.000000000',\n",
              "       '2017-09-11T00:00:00.000000000', '2017-01-06T00:00:00.000000000',\n",
              "       '2017-12-26T00:00:00.000000000', '2017-03-02T00:00:00.000000000',\n",
              "       '2017-05-30T00:00:00.000000000', '2017-06-25T00:00:00.000000000'],\n",
              "      dtype='datetime64[ns]')"
            ]
          },
          "metadata": {},
          "execution_count": 50
        }
      ]
    },
    {
      "cell_type": "code",
      "source": [
        "trans_df['product_first_sold_date'] = pd.to_datetime(trans_df['product_first_sold_date'], format='%Y%m%d')\n",
        "trans_df['product_first_sold_date'].head()"
      ],
      "metadata": {
        "colab": {
          "base_uri": "https://localhost:8080/"
        },
        "id": "tod5Cgxfxpkx",
        "outputId": "49db4de2-8989-4d22-ee6b-476cb3e0f455"
      },
      "execution_count": 52,
      "outputs": [
        {
          "output_type": "execute_result",
          "data": {
            "text/plain": [
              "0   1970-01-01 00:00:00.000041245\n",
              "1   1970-01-01 00:00:00.000041701\n",
              "2   1970-01-01 00:00:00.000036361\n",
              "3   1970-01-01 00:00:00.000036145\n",
              "4   1970-01-01 00:00:00.000042226\n",
              "Name: product_first_sold_date, dtype: datetime64[ns]"
            ]
          },
          "metadata": {},
          "execution_count": 52
        }
      ]
    },
    {
      "cell_type": "code",
      "source": [
        "trans_df.online_order.unique()"
      ],
      "metadata": {
        "colab": {
          "base_uri": "https://localhost:8080/"
        },
        "id": "Q1NDBSzY9wdQ",
        "outputId": "42aa253d-4879-4b5f-be55-07f83bc27792"
      },
      "execution_count": 53,
      "outputs": [
        {
          "output_type": "execute_result",
          "data": {
            "text/plain": [
              "array([ 0.,  1., nan])"
            ]
          },
          "metadata": {},
          "execution_count": 53
        }
      ]
    },
    {
      "cell_type": "code",
      "source": [
        "trans_df.duplicated().sum()"
      ],
      "metadata": {
        "id": "FQ_JDS1JCF39",
        "outputId": "f5f61e0f-b5f1-4fb2-a88e-306aaf48ea71",
        "colab": {
          "base_uri": "https://localhost:8080/"
        }
      },
      "execution_count": 58,
      "outputs": [
        {
          "output_type": "execute_result",
          "data": {
            "text/plain": [
              "0"
            ]
          },
          "metadata": {},
          "execution_count": 58
        }
      ]
    },
    {
      "cell_type": "markdown",
      "source": [
        "In the Transactions Dataset, after the data quality assessment, the following data quality issues were discoverd;\n",
        "\n",
        " - Completeness\n",
        " \n",
        " The dataset is made up of 2000 entries with 13 attributes (columns).\n",
        " The dataset contains missing values in the following columns;\n",
        " __Onlin_order - 360 missing values__,\n",
        " __brand - 197 missing values__,\n",
        " __product_line - 197 missing values__,\n",
        " __product_class - 197 missing values__,\n",
        " __product_size - 197 missing values__,\n",
        " __standard_cost - 197 missing values__.\n",
        "\n",
        "*Solution*\n",
        "\n",
        "1. First, I will get in contact with the company to know if there is anyway this could be rectified by providing an additional information which will enable me fill in the missing values. If not, Most of the data completeness issues are found in categorical variables and thus could be filled using the most occurring. The missing values in the standard cost could be fill in using the mean standard cost, and the rest of the missing values will be dropped.\n",
        "\n",
        "- Consistency\n",
        "\n",
        "The Data Representations accross the data set are not consistent, in some columns. data entries are in the title case while some others are represented in lower case.\n",
        "\n",
        "*Solution*\n",
        "\n",
        "All cases will be converted to the lower case\n",
        "\n",
        " - Accuracy\n",
        "\n",
        "The following columns __transaction_id__, __product_id__, and __customer_id__ are of incorrect dtype (int). These columns are used in identification of an observation and no mathematical operation is expected to be performed on these columns, and so should be of the type 'str' or 'object'. Also, the following column, __product_line__, __product_class__, __product_size__,__standard_cost__ should be of the dtype, 'category'.\n",
        "\n",
        "*Solution*\n",
        "\n",
        "I will change the datatypes using the .astype() method\n",
        "\n",
        " - Relevancy\n",
        "\n",
        "The column, __product_first_sold_date__ is of the wrong dtype(float), and does not contain the relevant information needed in this analysis\n",
        "\n",
        "*Solution*\n",
        "\n",
        "I will request on additional information that will help me fix the column in order to provide useful information for the analysis. When none is provided, the column will be dropped. \n",
        "\n",
        "## Customer Addresses Data Set\n"
      ],
      "metadata": {
        "id": "vwwtai2R8GrX"
      }
    },
    {
      "cell_type": "code",
      "source": [
        "# load the data set\n",
        "address_df = pd.read_excel('/KPMG_VI_New_raw_data_update_final.xlsx',\n",
        "                            sheet_name = 'CustomerAddress', skiprows = 1)\n",
        "address_df.head()"
      ],
      "metadata": {
        "colab": {
          "base_uri": "https://localhost:8080/",
          "height": 206
        },
        "id": "CWC_qmS_AgrX",
        "outputId": "75ed09c2-3c66-490e-976b-d0845d21490b"
      },
      "execution_count": 54,
      "outputs": [
        {
          "output_type": "execute_result",
          "data": {
            "text/plain": [
              "   customer_id              address  postcode            state    country  \\\n",
              "0            1   060 Morning Avenue      2016  New South Wales  Australia   \n",
              "1            2  6 Meadow Vale Court      2153  New South Wales  Australia   \n",
              "2            4   0 Holy Cross Court      4211              QLD  Australia   \n",
              "3            5  17979 Del Mar Point      2448  New South Wales  Australia   \n",
              "4            6     9 Oakridge Court      3216              VIC  Australia   \n",
              "\n",
              "   property_valuation  \n",
              "0                  10  \n",
              "1                  10  \n",
              "2                   9  \n",
              "3                   4  \n",
              "4                   9  "
            ],
            "text/html": [
              "\n",
              "  <div id=\"df-ace533da-e11d-4d9e-bd92-f96f1a28c2fa\">\n",
              "    <div class=\"colab-df-container\">\n",
              "      <div>\n",
              "<style scoped>\n",
              "    .dataframe tbody tr th:only-of-type {\n",
              "        vertical-align: middle;\n",
              "    }\n",
              "\n",
              "    .dataframe tbody tr th {\n",
              "        vertical-align: top;\n",
              "    }\n",
              "\n",
              "    .dataframe thead th {\n",
              "        text-align: right;\n",
              "    }\n",
              "</style>\n",
              "<table border=\"1\" class=\"dataframe\">\n",
              "  <thead>\n",
              "    <tr style=\"text-align: right;\">\n",
              "      <th></th>\n",
              "      <th>customer_id</th>\n",
              "      <th>address</th>\n",
              "      <th>postcode</th>\n",
              "      <th>state</th>\n",
              "      <th>country</th>\n",
              "      <th>property_valuation</th>\n",
              "    </tr>\n",
              "  </thead>\n",
              "  <tbody>\n",
              "    <tr>\n",
              "      <th>0</th>\n",
              "      <td>1</td>\n",
              "      <td>060 Morning Avenue</td>\n",
              "      <td>2016</td>\n",
              "      <td>New South Wales</td>\n",
              "      <td>Australia</td>\n",
              "      <td>10</td>\n",
              "    </tr>\n",
              "    <tr>\n",
              "      <th>1</th>\n",
              "      <td>2</td>\n",
              "      <td>6 Meadow Vale Court</td>\n",
              "      <td>2153</td>\n",
              "      <td>New South Wales</td>\n",
              "      <td>Australia</td>\n",
              "      <td>10</td>\n",
              "    </tr>\n",
              "    <tr>\n",
              "      <th>2</th>\n",
              "      <td>4</td>\n",
              "      <td>0 Holy Cross Court</td>\n",
              "      <td>4211</td>\n",
              "      <td>QLD</td>\n",
              "      <td>Australia</td>\n",
              "      <td>9</td>\n",
              "    </tr>\n",
              "    <tr>\n",
              "      <th>3</th>\n",
              "      <td>5</td>\n",
              "      <td>17979 Del Mar Point</td>\n",
              "      <td>2448</td>\n",
              "      <td>New South Wales</td>\n",
              "      <td>Australia</td>\n",
              "      <td>4</td>\n",
              "    </tr>\n",
              "    <tr>\n",
              "      <th>4</th>\n",
              "      <td>6</td>\n",
              "      <td>9 Oakridge Court</td>\n",
              "      <td>3216</td>\n",
              "      <td>VIC</td>\n",
              "      <td>Australia</td>\n",
              "      <td>9</td>\n",
              "    </tr>\n",
              "  </tbody>\n",
              "</table>\n",
              "</div>\n",
              "      <button class=\"colab-df-convert\" onclick=\"convertToInteractive('df-ace533da-e11d-4d9e-bd92-f96f1a28c2fa')\"\n",
              "              title=\"Convert this dataframe to an interactive table.\"\n",
              "              style=\"display:none;\">\n",
              "        \n",
              "  <svg xmlns=\"http://www.w3.org/2000/svg\" height=\"24px\"viewBox=\"0 0 24 24\"\n",
              "       width=\"24px\">\n",
              "    <path d=\"M0 0h24v24H0V0z\" fill=\"none\"/>\n",
              "    <path d=\"M18.56 5.44l.94 2.06.94-2.06 2.06-.94-2.06-.94-.94-2.06-.94 2.06-2.06.94zm-11 1L8.5 8.5l.94-2.06 2.06-.94-2.06-.94L8.5 2.5l-.94 2.06-2.06.94zm10 10l.94 2.06.94-2.06 2.06-.94-2.06-.94-.94-2.06-.94 2.06-2.06.94z\"/><path d=\"M17.41 7.96l-1.37-1.37c-.4-.4-.92-.59-1.43-.59-.52 0-1.04.2-1.43.59L10.3 9.45l-7.72 7.72c-.78.78-.78 2.05 0 2.83L4 21.41c.39.39.9.59 1.41.59.51 0 1.02-.2 1.41-.59l7.78-7.78 2.81-2.81c.8-.78.8-2.07 0-2.86zM5.41 20L4 18.59l7.72-7.72 1.47 1.35L5.41 20z\"/>\n",
              "  </svg>\n",
              "      </button>\n",
              "      \n",
              "  <style>\n",
              "    .colab-df-container {\n",
              "      display:flex;\n",
              "      flex-wrap:wrap;\n",
              "      gap: 12px;\n",
              "    }\n",
              "\n",
              "    .colab-df-convert {\n",
              "      background-color: #E8F0FE;\n",
              "      border: none;\n",
              "      border-radius: 50%;\n",
              "      cursor: pointer;\n",
              "      display: none;\n",
              "      fill: #1967D2;\n",
              "      height: 32px;\n",
              "      padding: 0 0 0 0;\n",
              "      width: 32px;\n",
              "    }\n",
              "\n",
              "    .colab-df-convert:hover {\n",
              "      background-color: #E2EBFA;\n",
              "      box-shadow: 0px 1px 2px rgba(60, 64, 67, 0.3), 0px 1px 3px 1px rgba(60, 64, 67, 0.15);\n",
              "      fill: #174EA6;\n",
              "    }\n",
              "\n",
              "    [theme=dark] .colab-df-convert {\n",
              "      background-color: #3B4455;\n",
              "      fill: #D2E3FC;\n",
              "    }\n",
              "\n",
              "    [theme=dark] .colab-df-convert:hover {\n",
              "      background-color: #434B5C;\n",
              "      box-shadow: 0px 1px 3px 1px rgba(0, 0, 0, 0.15);\n",
              "      filter: drop-shadow(0px 1px 2px rgba(0, 0, 0, 0.3));\n",
              "      fill: #FFFFFF;\n",
              "    }\n",
              "  </style>\n",
              "\n",
              "      <script>\n",
              "        const buttonEl =\n",
              "          document.querySelector('#df-ace533da-e11d-4d9e-bd92-f96f1a28c2fa button.colab-df-convert');\n",
              "        buttonEl.style.display =\n",
              "          google.colab.kernel.accessAllowed ? 'block' : 'none';\n",
              "\n",
              "        async function convertToInteractive(key) {\n",
              "          const element = document.querySelector('#df-ace533da-e11d-4d9e-bd92-f96f1a28c2fa');\n",
              "          const dataTable =\n",
              "            await google.colab.kernel.invokeFunction('convertToInteractive',\n",
              "                                                     [key], {});\n",
              "          if (!dataTable) return;\n",
              "\n",
              "          const docLinkHtml = 'Like what you see? Visit the ' +\n",
              "            '<a target=\"_blank\" href=https://colab.research.google.com/notebooks/data_table.ipynb>data table notebook</a>'\n",
              "            + ' to learn more about interactive tables.';\n",
              "          element.innerHTML = '';\n",
              "          dataTable['output_type'] = 'display_data';\n",
              "          await google.colab.output.renderOutput(dataTable, element);\n",
              "          const docLink = document.createElement('div');\n",
              "          docLink.innerHTML = docLinkHtml;\n",
              "          element.appendChild(docLink);\n",
              "        }\n",
              "      </script>\n",
              "    </div>\n",
              "  </div>\n",
              "  "
            ]
          },
          "metadata": {},
          "execution_count": 54
        }
      ]
    },
    {
      "cell_type": "code",
      "source": [
        "print(address_df.shape)\n",
        "address_df.info()"
      ],
      "metadata": {
        "id": "o58nA8e-B18w",
        "outputId": "6d1d8d97-10d7-4c9d-e094-930445170218",
        "colab": {
          "base_uri": "https://localhost:8080/"
        }
      },
      "execution_count": 57,
      "outputs": [
        {
          "output_type": "stream",
          "name": "stdout",
          "text": [
            "(3999, 6)\n",
            "<class 'pandas.core.frame.DataFrame'>\n",
            "RangeIndex: 3999 entries, 0 to 3998\n",
            "Data columns (total 6 columns):\n",
            " #   Column              Non-Null Count  Dtype \n",
            "---  ------              --------------  ----- \n",
            " 0   customer_id         3999 non-null   int64 \n",
            " 1   address             3999 non-null   object\n",
            " 2   postcode            3999 non-null   int64 \n",
            " 3   state               3999 non-null   object\n",
            " 4   country             3999 non-null   object\n",
            " 5   property_valuation  3999 non-null   int64 \n",
            "dtypes: int64(3), object(3)\n",
            "memory usage: 187.6+ KB\n"
          ]
        }
      ]
    },
    {
      "cell_type": "code",
      "source": [
        "address_df.country.unique()"
      ],
      "metadata": {
        "id": "NK4NSeMuCUqN",
        "outputId": "603cb235-8a8b-46ac-feb5-23151908dacc",
        "colab": {
          "base_uri": "https://localhost:8080/"
        }
      },
      "execution_count": 59,
      "outputs": [
        {
          "output_type": "execute_result",
          "data": {
            "text/plain": [
              "array(['Australia'], dtype=object)"
            ]
          },
          "metadata": {},
          "execution_count": 59
        }
      ]
    },
    {
      "cell_type": "code",
      "source": [
        "address_df.duplicated().sum()"
      ],
      "metadata": {
        "id": "3gr-f2yDFcdm",
        "outputId": "751ac19b-e5e6-45f5-f1f5-13fb2b472c2f",
        "colab": {
          "base_uri": "https://localhost:8080/"
        }
      },
      "execution_count": 60,
      "outputs": [
        {
          "output_type": "execute_result",
          "data": {
            "text/plain": [
              "0"
            ]
          },
          "metadata": {},
          "execution_count": 60
        }
      ]
    },
    {
      "cell_type": "markdown",
      "source": [
        "## Address Dataset Quality Issues\n",
        "\n",
        "\n",
        " - __customer_id__ should be of dtype('object') not int\n",
        " - __postcode__ should be of dtype('object') not int\n",
        " - The data representation in the __state__ column is not consistent\n",
        " - Since all observations originated from Australia, the __country__ column is not relevant.\n",
        "\n",
        "*Solution* \n",
        " \n",
        " Rectify them as I did above."
      ],
      "metadata": {
        "id": "3IfIeQRqFqls"
      }
    },
    {
      "cell_type": "code",
      "source": [],
      "metadata": {
        "id": "ume9RzIWHOJD"
      },
      "execution_count": null,
      "outputs": []
    },
    {
      "cell_type": "markdown",
      "source": [],
      "metadata": {
        "id": "-NE62PioIAdD"
      }
    }
  ]
}